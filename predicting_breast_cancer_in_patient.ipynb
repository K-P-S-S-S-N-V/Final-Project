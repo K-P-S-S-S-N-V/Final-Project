{
  "nbformat": 4,
  "nbformat_minor": 0,
  "metadata": {
    "colab": {
      "provenance": []
    },
    "kernelspec": {
      "name": "python3",
      "display_name": "Python 3"
    },
    "language_info": {
      "name": "python"
    }
  },
  "cells": [
    {
      "cell_type": "code",
      "execution_count": 1,
      "metadata": {
        "id": "da85lOnevrpk"
      },
      "outputs": [],
      "source": [
        "import numpy as np\n",
        "import pandas as pd\n",
        "import matplotlib.pyplot as plt\n",
        "import seaborn as sns"
      ]
    },
    {
      "cell_type": "code",
      "source": [
        "df=pd.read_csv(\"cancer.csv\")\n",
        "print(df)"
      ],
      "metadata": {
        "colab": {
          "base_uri": "https://localhost:8080/"
        },
        "id": "MJgY5J6tJzP1",
        "outputId": "f342dd75-e198-4a02-c6c1-4d6b5c70b769"
      },
      "execution_count": 2,
      "outputs": [
        {
          "output_type": "stream",
          "name": "stdout",
          "text": [
            "           id diagnosis  radius_mean  texture_mean  perimeter_mean  area_mean  \\\n",
            "0      842302         M        17.99         10.38          122.80     1001.0   \n",
            "1      842517         M        20.57         17.77          132.90     1326.0   \n",
            "2    84300903         M        19.69         21.25          130.00     1203.0   \n",
            "3    84348301         M        11.42         20.38           77.58      386.1   \n",
            "4    84358402         M        20.29         14.34          135.10     1297.0   \n",
            "..        ...       ...          ...           ...             ...        ...   \n",
            "564    926424         M        21.56         22.39          142.00     1479.0   \n",
            "565    926682         M        20.13         28.25          131.20     1261.0   \n",
            "566    926954         M        16.60         28.08          108.30      858.1   \n",
            "567    927241         M        20.60         29.33          140.10     1265.0   \n",
            "568     92751         B         7.76         24.54           47.92      181.0   \n",
            "\n",
            "     smoothness_mean  compactness_mean  concavity_mean  concave points_mean  \\\n",
            "0            0.11840           0.27760         0.30010              0.14710   \n",
            "1            0.08474           0.07864         0.08690              0.07017   \n",
            "2            0.10960           0.15990         0.19740              0.12790   \n",
            "3            0.14250           0.28390         0.24140              0.10520   \n",
            "4            0.10030           0.13280         0.19800              0.10430   \n",
            "..               ...               ...             ...                  ...   \n",
            "564          0.11100           0.11590         0.24390              0.13890   \n",
            "565          0.09780           0.10340         0.14400              0.09791   \n",
            "566          0.08455           0.10230         0.09251              0.05302   \n",
            "567          0.11780           0.27700         0.35140              0.15200   \n",
            "568          0.05263           0.04362         0.00000              0.00000   \n",
            "\n",
            "     ...  texture_worst  perimeter_worst  area_worst  smoothness_worst  \\\n",
            "0    ...          17.33           184.60      2019.0           0.16220   \n",
            "1    ...          23.41           158.80      1956.0           0.12380   \n",
            "2    ...          25.53           152.50      1709.0           0.14440   \n",
            "3    ...          26.50            98.87       567.7           0.20980   \n",
            "4    ...          16.67           152.20      1575.0           0.13740   \n",
            "..   ...            ...              ...         ...               ...   \n",
            "564  ...          26.40           166.10      2027.0           0.14100   \n",
            "565  ...          38.25           155.00      1731.0           0.11660   \n",
            "566  ...          34.12           126.70      1124.0           0.11390   \n",
            "567  ...          39.42           184.60      1821.0           0.16500   \n",
            "568  ...          30.37            59.16       268.6           0.08996   \n",
            "\n",
            "     compactness_worst  concavity_worst  concave points_worst  symmetry_worst  \\\n",
            "0              0.66560           0.7119                0.2654          0.4601   \n",
            "1              0.18660           0.2416                0.1860          0.2750   \n",
            "2              0.42450           0.4504                0.2430          0.3613   \n",
            "3              0.86630           0.6869                0.2575          0.6638   \n",
            "4              0.20500           0.4000                0.1625          0.2364   \n",
            "..                 ...              ...                   ...             ...   \n",
            "564            0.21130           0.4107                0.2216          0.2060   \n",
            "565            0.19220           0.3215                0.1628          0.2572   \n",
            "566            0.30940           0.3403                0.1418          0.2218   \n",
            "567            0.86810           0.9387                0.2650          0.4087   \n",
            "568            0.06444           0.0000                0.0000          0.2871   \n",
            "\n",
            "     fractal_dimension_worst  Unnamed: 32  \n",
            "0                    0.11890          NaN  \n",
            "1                    0.08902          NaN  \n",
            "2                    0.08758          NaN  \n",
            "3                    0.17300          NaN  \n",
            "4                    0.07678          NaN  \n",
            "..                       ...          ...  \n",
            "564                  0.07115          NaN  \n",
            "565                  0.06637          NaN  \n",
            "566                  0.07820          NaN  \n",
            "567                  0.12400          NaN  \n",
            "568                  0.07039          NaN  \n",
            "\n",
            "[569 rows x 33 columns]\n"
          ]
        }
      ]
    },
    {
      "cell_type": "code",
      "source": [
        "df.isnull().sum()"
      ],
      "metadata": {
        "colab": {
          "base_uri": "https://localhost:8080/"
        },
        "id": "SdmF0QX8LIrD",
        "outputId": "335d5877-c67f-4d78-8971-5b17f7833551"
      },
      "execution_count": 4,
      "outputs": [
        {
          "output_type": "execute_result",
          "data": {
            "text/plain": [
              "id                           0\n",
              "diagnosis                    0\n",
              "radius_mean                  0\n",
              "texture_mean                 0\n",
              "perimeter_mean               0\n",
              "area_mean                    0\n",
              "smoothness_mean              0\n",
              "compactness_mean             0\n",
              "concavity_mean               0\n",
              "concave points_mean          0\n",
              "symmetry_mean                0\n",
              "fractal_dimension_mean       0\n",
              "radius_se                    0\n",
              "texture_se                   0\n",
              "perimeter_se                 0\n",
              "area_se                      0\n",
              "smoothness_se                0\n",
              "compactness_se               0\n",
              "concavity_se                 0\n",
              "concave points_se            0\n",
              "symmetry_se                  0\n",
              "fractal_dimension_se         0\n",
              "radius_worst                 0\n",
              "texture_worst                0\n",
              "perimeter_worst              0\n",
              "area_worst                   0\n",
              "smoothness_worst             0\n",
              "compactness_worst            0\n",
              "concavity_worst              0\n",
              "concave points_worst         0\n",
              "symmetry_worst               0\n",
              "fractal_dimension_worst      0\n",
              "Unnamed: 32                569\n",
              "dtype: int64"
            ]
          },
          "metadata": {},
          "execution_count": 4
        }
      ]
    },
    {
      "cell_type": "code",
      "source": [
        "display(df.iloc[4])"
      ],
      "metadata": {
        "colab": {
          "base_uri": "https://localhost:8080/",
          "height": 607
        },
        "id": "05TkTcCxK1-m",
        "outputId": "8e66d047-77c4-471f-d727-f4f9a789bc09"
      },
      "execution_count": 3,
      "outputs": [
        {
          "output_type": "display_data",
          "data": {
            "text/plain": [
              "id                         84358402\n",
              "diagnosis                         M\n",
              "radius_mean                   20.29\n",
              "texture_mean                  14.34\n",
              "perimeter_mean                135.1\n",
              "area_mean                    1297.0\n",
              "smoothness_mean              0.1003\n",
              "compactness_mean             0.1328\n",
              "concavity_mean                0.198\n",
              "concave points_mean          0.1043\n",
              "symmetry_mean                0.1809\n",
              "fractal_dimension_mean      0.05883\n",
              "radius_se                    0.7572\n",
              "texture_se                   0.7813\n",
              "perimeter_se                  5.438\n",
              "area_se                       94.44\n",
              "smoothness_se               0.01149\n",
              "compactness_se              0.02461\n",
              "concavity_se                0.05688\n",
              "concave points_se           0.01885\n",
              "symmetry_se                 0.01756\n",
              "fractal_dimension_se       0.005115\n",
              "radius_worst                  22.54\n",
              "texture_worst                 16.67\n",
              "perimeter_worst               152.2\n",
              "area_worst                   1575.0\n",
              "smoothness_worst             0.1374\n",
              "compactness_worst             0.205\n",
              "concavity_worst                 0.4\n",
              "concave points_worst         0.1625\n",
              "symmetry_worst               0.2364\n",
              "fractal_dimension_worst     0.07678\n",
              "Unnamed: 32                     NaN\n",
              "Name: 4, dtype: object"
            ]
          },
          "metadata": {}
        }
      ]
    },
    {
      "cell_type": "code",
      "source": [
        "df.columns"
      ],
      "metadata": {
        "colab": {
          "base_uri": "https://localhost:8080/"
        },
        "id": "pUJK7QpxLAgR",
        "outputId": "612f19a6-1e94-4539-fffe-8d9f89771034"
      },
      "execution_count": 5,
      "outputs": [
        {
          "output_type": "execute_result",
          "data": {
            "text/plain": [
              "Index(['id', 'diagnosis', 'radius_mean', 'texture_mean', 'perimeter_mean',\n",
              "       'area_mean', 'smoothness_mean', 'compactness_mean', 'concavity_mean',\n",
              "       'concave points_mean', 'symmetry_mean', 'fractal_dimension_mean',\n",
              "       'radius_se', 'texture_se', 'perimeter_se', 'area_se', 'smoothness_se',\n",
              "       'compactness_se', 'concavity_se', 'concave points_se', 'symmetry_se',\n",
              "       'fractal_dimension_se', 'radius_worst', 'texture_worst',\n",
              "       'perimeter_worst', 'area_worst', 'smoothness_worst',\n",
              "       'compactness_worst', 'concavity_worst', 'concave points_worst',\n",
              "       'symmetry_worst', 'fractal_dimension_worst', 'Unnamed: 32'],\n",
              "      dtype='object')"
            ]
          },
          "metadata": {},
          "execution_count": 5
        }
      ]
    },
    {
      "cell_type": "code",
      "source": [
        "df.drop(columns=['radius_se', 'texture_se', 'perimeter_se', 'area_se', 'smoothness_se',\n",
        "       'compactness_se', 'concavity_se', 'concave points_se', 'symmetry_se',\n",
        "       'fractal_dimension_se', 'radius_worst', 'texture_worst',\n",
        "       'perimeter_worst', 'area_worst', 'smoothness_worst',\n",
        "       'compactness_worst', 'concavity_worst', 'concave points_worst',\n",
        "       'symmetry_worst', 'fractal_dimension_worst', 'Unnamed: 32'], inplace=True)"
      ],
      "metadata": {
        "id": "s7jQckMcLNZd"
      },
      "execution_count": 6,
      "outputs": []
    },
    {
      "cell_type": "code",
      "source": [
        "del df['id']\n",
        "print(df)"
      ],
      "metadata": {
        "colab": {
          "base_uri": "https://localhost:8080/"
        },
        "id": "rDrt-7gGLRRB",
        "outputId": "8db5a168-d02f-4a15-93bf-31ddcd2c92fc"
      },
      "execution_count": 7,
      "outputs": [
        {
          "output_type": "stream",
          "name": "stdout",
          "text": [
            "    diagnosis  radius_mean  texture_mean  perimeter_mean  area_mean  \\\n",
            "0           M        17.99         10.38          122.80     1001.0   \n",
            "1           M        20.57         17.77          132.90     1326.0   \n",
            "2           M        19.69         21.25          130.00     1203.0   \n",
            "3           M        11.42         20.38           77.58      386.1   \n",
            "4           M        20.29         14.34          135.10     1297.0   \n",
            "..        ...          ...           ...             ...        ...   \n",
            "564         M        21.56         22.39          142.00     1479.0   \n",
            "565         M        20.13         28.25          131.20     1261.0   \n",
            "566         M        16.60         28.08          108.30      858.1   \n",
            "567         M        20.60         29.33          140.10     1265.0   \n",
            "568         B         7.76         24.54           47.92      181.0   \n",
            "\n",
            "     smoothness_mean  compactness_mean  concavity_mean  concave points_mean  \\\n",
            "0            0.11840           0.27760         0.30010              0.14710   \n",
            "1            0.08474           0.07864         0.08690              0.07017   \n",
            "2            0.10960           0.15990         0.19740              0.12790   \n",
            "3            0.14250           0.28390         0.24140              0.10520   \n",
            "4            0.10030           0.13280         0.19800              0.10430   \n",
            "..               ...               ...             ...                  ...   \n",
            "564          0.11100           0.11590         0.24390              0.13890   \n",
            "565          0.09780           0.10340         0.14400              0.09791   \n",
            "566          0.08455           0.10230         0.09251              0.05302   \n",
            "567          0.11780           0.27700         0.35140              0.15200   \n",
            "568          0.05263           0.04362         0.00000              0.00000   \n",
            "\n",
            "     symmetry_mean  fractal_dimension_mean  \n",
            "0           0.2419                 0.07871  \n",
            "1           0.1812                 0.05667  \n",
            "2           0.2069                 0.05999  \n",
            "3           0.2597                 0.09744  \n",
            "4           0.1809                 0.05883  \n",
            "..             ...                     ...  \n",
            "564         0.1726                 0.05623  \n",
            "565         0.1752                 0.05533  \n",
            "566         0.1590                 0.05648  \n",
            "567         0.2397                 0.07016  \n",
            "568         0.1587                 0.05884  \n",
            "\n",
            "[569 rows x 11 columns]\n"
          ]
        }
      ]
    },
    {
      "cell_type": "code",
      "source": [
        "df.describe()"
      ],
      "metadata": {
        "colab": {
          "base_uri": "https://localhost:8080/",
          "height": 300
        },
        "id": "pLGz1t5WLXSP",
        "outputId": "74450d28-4e06-413d-dab3-db15e32d52ca"
      },
      "execution_count": 8,
      "outputs": [
        {
          "output_type": "execute_result",
          "data": {
            "text/plain": [
              "       radius_mean  texture_mean  perimeter_mean    area_mean  \\\n",
              "count   569.000000    569.000000      569.000000   569.000000   \n",
              "mean     14.127292     19.289649       91.969033   654.889104   \n",
              "std       3.524049      4.301036       24.298981   351.914129   \n",
              "min       6.981000      9.710000       43.790000   143.500000   \n",
              "25%      11.700000     16.170000       75.170000   420.300000   \n",
              "50%      13.370000     18.840000       86.240000   551.100000   \n",
              "75%      15.780000     21.800000      104.100000   782.700000   \n",
              "max      28.110000     39.280000      188.500000  2501.000000   \n",
              "\n",
              "       smoothness_mean  compactness_mean  concavity_mean  concave points_mean  \\\n",
              "count       569.000000        569.000000      569.000000           569.000000   \n",
              "mean          0.096360          0.104341        0.088799             0.048919   \n",
              "std           0.014064          0.052813        0.079720             0.038803   \n",
              "min           0.052630          0.019380        0.000000             0.000000   \n",
              "25%           0.086370          0.064920        0.029560             0.020310   \n",
              "50%           0.095870          0.092630        0.061540             0.033500   \n",
              "75%           0.105300          0.130400        0.130700             0.074000   \n",
              "max           0.163400          0.345400        0.426800             0.201200   \n",
              "\n",
              "       symmetry_mean  fractal_dimension_mean  \n",
              "count     569.000000              569.000000  \n",
              "mean        0.181162                0.062798  \n",
              "std         0.027414                0.007060  \n",
              "min         0.106000                0.049960  \n",
              "25%         0.161900                0.057700  \n",
              "50%         0.179200                0.061540  \n",
              "75%         0.195700                0.066120  \n",
              "max         0.304000                0.097440  "
            ],
            "text/html": [
              "\n",
              "  <div id=\"df-c69d26a8-b999-4cbf-9963-455821be478c\">\n",
              "    <div class=\"colab-df-container\">\n",
              "      <div>\n",
              "<style scoped>\n",
              "    .dataframe tbody tr th:only-of-type {\n",
              "        vertical-align: middle;\n",
              "    }\n",
              "\n",
              "    .dataframe tbody tr th {\n",
              "        vertical-align: top;\n",
              "    }\n",
              "\n",
              "    .dataframe thead th {\n",
              "        text-align: right;\n",
              "    }\n",
              "</style>\n",
              "<table border=\"1\" class=\"dataframe\">\n",
              "  <thead>\n",
              "    <tr style=\"text-align: right;\">\n",
              "      <th></th>\n",
              "      <th>radius_mean</th>\n",
              "      <th>texture_mean</th>\n",
              "      <th>perimeter_mean</th>\n",
              "      <th>area_mean</th>\n",
              "      <th>smoothness_mean</th>\n",
              "      <th>compactness_mean</th>\n",
              "      <th>concavity_mean</th>\n",
              "      <th>concave points_mean</th>\n",
              "      <th>symmetry_mean</th>\n",
              "      <th>fractal_dimension_mean</th>\n",
              "    </tr>\n",
              "  </thead>\n",
              "  <tbody>\n",
              "    <tr>\n",
              "      <th>count</th>\n",
              "      <td>569.000000</td>\n",
              "      <td>569.000000</td>\n",
              "      <td>569.000000</td>\n",
              "      <td>569.000000</td>\n",
              "      <td>569.000000</td>\n",
              "      <td>569.000000</td>\n",
              "      <td>569.000000</td>\n",
              "      <td>569.000000</td>\n",
              "      <td>569.000000</td>\n",
              "      <td>569.000000</td>\n",
              "    </tr>\n",
              "    <tr>\n",
              "      <th>mean</th>\n",
              "      <td>14.127292</td>\n",
              "      <td>19.289649</td>\n",
              "      <td>91.969033</td>\n",
              "      <td>654.889104</td>\n",
              "      <td>0.096360</td>\n",
              "      <td>0.104341</td>\n",
              "      <td>0.088799</td>\n",
              "      <td>0.048919</td>\n",
              "      <td>0.181162</td>\n",
              "      <td>0.062798</td>\n",
              "    </tr>\n",
              "    <tr>\n",
              "      <th>std</th>\n",
              "      <td>3.524049</td>\n",
              "      <td>4.301036</td>\n",
              "      <td>24.298981</td>\n",
              "      <td>351.914129</td>\n",
              "      <td>0.014064</td>\n",
              "      <td>0.052813</td>\n",
              "      <td>0.079720</td>\n",
              "      <td>0.038803</td>\n",
              "      <td>0.027414</td>\n",
              "      <td>0.007060</td>\n",
              "    </tr>\n",
              "    <tr>\n",
              "      <th>min</th>\n",
              "      <td>6.981000</td>\n",
              "      <td>9.710000</td>\n",
              "      <td>43.790000</td>\n",
              "      <td>143.500000</td>\n",
              "      <td>0.052630</td>\n",
              "      <td>0.019380</td>\n",
              "      <td>0.000000</td>\n",
              "      <td>0.000000</td>\n",
              "      <td>0.106000</td>\n",
              "      <td>0.049960</td>\n",
              "    </tr>\n",
              "    <tr>\n",
              "      <th>25%</th>\n",
              "      <td>11.700000</td>\n",
              "      <td>16.170000</td>\n",
              "      <td>75.170000</td>\n",
              "      <td>420.300000</td>\n",
              "      <td>0.086370</td>\n",
              "      <td>0.064920</td>\n",
              "      <td>0.029560</td>\n",
              "      <td>0.020310</td>\n",
              "      <td>0.161900</td>\n",
              "      <td>0.057700</td>\n",
              "    </tr>\n",
              "    <tr>\n",
              "      <th>50%</th>\n",
              "      <td>13.370000</td>\n",
              "      <td>18.840000</td>\n",
              "      <td>86.240000</td>\n",
              "      <td>551.100000</td>\n",
              "      <td>0.095870</td>\n",
              "      <td>0.092630</td>\n",
              "      <td>0.061540</td>\n",
              "      <td>0.033500</td>\n",
              "      <td>0.179200</td>\n",
              "      <td>0.061540</td>\n",
              "    </tr>\n",
              "    <tr>\n",
              "      <th>75%</th>\n",
              "      <td>15.780000</td>\n",
              "      <td>21.800000</td>\n",
              "      <td>104.100000</td>\n",
              "      <td>782.700000</td>\n",
              "      <td>0.105300</td>\n",
              "      <td>0.130400</td>\n",
              "      <td>0.130700</td>\n",
              "      <td>0.074000</td>\n",
              "      <td>0.195700</td>\n",
              "      <td>0.066120</td>\n",
              "    </tr>\n",
              "    <tr>\n",
              "      <th>max</th>\n",
              "      <td>28.110000</td>\n",
              "      <td>39.280000</td>\n",
              "      <td>188.500000</td>\n",
              "      <td>2501.000000</td>\n",
              "      <td>0.163400</td>\n",
              "      <td>0.345400</td>\n",
              "      <td>0.426800</td>\n",
              "      <td>0.201200</td>\n",
              "      <td>0.304000</td>\n",
              "      <td>0.097440</td>\n",
              "    </tr>\n",
              "  </tbody>\n",
              "</table>\n",
              "</div>\n",
              "      <button class=\"colab-df-convert\" onclick=\"convertToInteractive('df-c69d26a8-b999-4cbf-9963-455821be478c')\"\n",
              "              title=\"Convert this dataframe to an interactive table.\"\n",
              "              style=\"display:none;\">\n",
              "        \n",
              "  <svg xmlns=\"http://www.w3.org/2000/svg\" height=\"24px\"viewBox=\"0 0 24 24\"\n",
              "       width=\"24px\">\n",
              "    <path d=\"M0 0h24v24H0V0z\" fill=\"none\"/>\n",
              "    <path d=\"M18.56 5.44l.94 2.06.94-2.06 2.06-.94-2.06-.94-.94-2.06-.94 2.06-2.06.94zm-11 1L8.5 8.5l.94-2.06 2.06-.94-2.06-.94L8.5 2.5l-.94 2.06-2.06.94zm10 10l.94 2.06.94-2.06 2.06-.94-2.06-.94-.94-2.06-.94 2.06-2.06.94z\"/><path d=\"M17.41 7.96l-1.37-1.37c-.4-.4-.92-.59-1.43-.59-.52 0-1.04.2-1.43.59L10.3 9.45l-7.72 7.72c-.78.78-.78 2.05 0 2.83L4 21.41c.39.39.9.59 1.41.59.51 0 1.02-.2 1.41-.59l7.78-7.78 2.81-2.81c.8-.78.8-2.07 0-2.86zM5.41 20L4 18.59l7.72-7.72 1.47 1.35L5.41 20z\"/>\n",
              "  </svg>\n",
              "      </button>\n",
              "      \n",
              "  <style>\n",
              "    .colab-df-container {\n",
              "      display:flex;\n",
              "      flex-wrap:wrap;\n",
              "      gap: 12px;\n",
              "    }\n",
              "\n",
              "    .colab-df-convert {\n",
              "      background-color: #E8F0FE;\n",
              "      border: none;\n",
              "      border-radius: 50%;\n",
              "      cursor: pointer;\n",
              "      display: none;\n",
              "      fill: #1967D2;\n",
              "      height: 32px;\n",
              "      padding: 0 0 0 0;\n",
              "      width: 32px;\n",
              "    }\n",
              "\n",
              "    .colab-df-convert:hover {\n",
              "      background-color: #E2EBFA;\n",
              "      box-shadow: 0px 1px 2px rgba(60, 64, 67, 0.3), 0px 1px 3px 1px rgba(60, 64, 67, 0.15);\n",
              "      fill: #174EA6;\n",
              "    }\n",
              "\n",
              "    [theme=dark] .colab-df-convert {\n",
              "      background-color: #3B4455;\n",
              "      fill: #D2E3FC;\n",
              "    }\n",
              "\n",
              "    [theme=dark] .colab-df-convert:hover {\n",
              "      background-color: #434B5C;\n",
              "      box-shadow: 0px 1px 3px 1px rgba(0, 0, 0, 0.15);\n",
              "      filter: drop-shadow(0px 1px 2px rgba(0, 0, 0, 0.3));\n",
              "      fill: #FFFFFF;\n",
              "    }\n",
              "  </style>\n",
              "\n",
              "      <script>\n",
              "        const buttonEl =\n",
              "          document.querySelector('#df-c69d26a8-b999-4cbf-9963-455821be478c button.colab-df-convert');\n",
              "        buttonEl.style.display =\n",
              "          google.colab.kernel.accessAllowed ? 'block' : 'none';\n",
              "\n",
              "        async function convertToInteractive(key) {\n",
              "          const element = document.querySelector('#df-c69d26a8-b999-4cbf-9963-455821be478c');\n",
              "          const dataTable =\n",
              "            await google.colab.kernel.invokeFunction('convertToInteractive',\n",
              "                                                     [key], {});\n",
              "          if (!dataTable) return;\n",
              "\n",
              "          const docLinkHtml = 'Like what you see? Visit the ' +\n",
              "            '<a target=\"_blank\" href=https://colab.research.google.com/notebooks/data_table.ipynb>data table notebook</a>'\n",
              "            + ' to learn more about interactive tables.';\n",
              "          element.innerHTML = '';\n",
              "          dataTable['output_type'] = 'display_data';\n",
              "          await google.colab.output.renderOutput(dataTable, element);\n",
              "          const docLink = document.createElement('div');\n",
              "          docLink.innerHTML = docLinkHtml;\n",
              "          element.appendChild(docLink);\n",
              "        }\n",
              "      </script>\n",
              "    </div>\n",
              "  </div>\n",
              "  "
            ]
          },
          "metadata": {},
          "execution_count": 8
        }
      ]
    },
    {
      "cell_type": "code",
      "source": [
        "Q1 = df.quantile(0.25)\n",
        "Q3 = df.quantile(0.75)\n",
        "IQR = Q3 - Q1\n",
        "((df < (Q1 - 1.5 * IQR)) | (df > (Q3 + 1.5 * IQR))).sum() # gives no. of outliers"
      ],
      "metadata": {
        "colab": {
          "base_uri": "https://localhost:8080/"
        },
        "id": "yaj3g75DLazo",
        "outputId": "a627617b-c08a-4a30-e2a2-2ed9d41cdac5"
      },
      "execution_count": 9,
      "outputs": [
        {
          "output_type": "stream",
          "name": "stderr",
          "text": [
            "<ipython-input-9-f030f1868054>:4: FutureWarning: Automatic reindexing on DataFrame vs Series comparisons is deprecated and will raise ValueError in a future version.  Do `left, right = left.align(right, axis=1, copy=False)` before e.g. `left == right`\n",
            "  ((df < (Q1 - 1.5 * IQR)) | (df > (Q3 + 1.5 * IQR))).sum() # gives no. of outliers\n"
          ]
        },
        {
          "output_type": "execute_result",
          "data": {
            "text/plain": [
              "area_mean                 25\n",
              "compactness_mean          16\n",
              "concave points_mean       10\n",
              "concavity_mean            18\n",
              "diagnosis                  0\n",
              "fractal_dimension_mean    15\n",
              "perimeter_mean            13\n",
              "radius_mean               14\n",
              "smoothness_mean            6\n",
              "symmetry_mean             15\n",
              "texture_mean               7\n",
              "dtype: int64"
            ]
          },
          "metadata": {},
          "execution_count": 9
        }
      ]
    },
    {
      "cell_type": "code",
      "source": [
        "df = df.drop_duplicates()"
      ],
      "metadata": {
        "id": "WlaW-Sg4LeVJ"
      },
      "execution_count": 10,
      "outputs": []
    },
    {
      "cell_type": "code",
      "source": [
        "x = df.loc[:,df.columns[1:]]\n",
        "y = df['diagnosis']\n",
        "y = y.map({'M':1, 'B':0})"
      ],
      "metadata": {
        "id": "q46y-K7wLhgN"
      },
      "execution_count": 11,
      "outputs": []
    },
    {
      "cell_type": "code",
      "source": [
        "!pip install sklearn"
      ],
      "metadata": {
        "colab": {
          "base_uri": "https://localhost:8080/"
        },
        "id": "ipPwFCbwLkb5",
        "outputId": "7ff505f1-3f81-4e59-fdd2-97fbb8a1487d"
      },
      "execution_count": 12,
      "outputs": [
        {
          "output_type": "stream",
          "name": "stdout",
          "text": [
            "Looking in indexes: https://pypi.org/simple, https://us-python.pkg.dev/colab-wheels/public/simple/\n",
            "Collecting sklearn\n",
            "  Downloading sklearn-0.0.post1.tar.gz (3.6 kB)\n",
            "\u001b[33mWARNING: Discarding https://files.pythonhosted.org/packages/db/1e/af4e9cded5093a92e60d4ae7149a02c7427661b2db66c8ea4d34b17864a2/sklearn-0.0.post1.tar.gz#sha256=76b9ed1623775168657b86b5fe966d45752e5c87f528de6240c38923b94147c5 (from https://pypi.org/simple/sklearn/). Command errored out with exit status 1: python setup.py egg_info Check the logs for full command output.\u001b[0m\n",
            "  Downloading sklearn-0.0.tar.gz (1.1 kB)\n",
            "Requirement already satisfied: scikit-learn in /usr/local/lib/python3.8/dist-packages (from sklearn) (1.0.2)\n",
            "Requirement already satisfied: scipy>=1.1.0 in /usr/local/lib/python3.8/dist-packages (from scikit-learn->sklearn) (1.7.3)\n",
            "Requirement already satisfied: threadpoolctl>=2.0.0 in /usr/local/lib/python3.8/dist-packages (from scikit-learn->sklearn) (3.1.0)\n",
            "Requirement already satisfied: numpy>=1.14.6 in /usr/local/lib/python3.8/dist-packages (from scikit-learn->sklearn) (1.21.6)\n",
            "Requirement already satisfied: joblib>=0.11 in /usr/local/lib/python3.8/dist-packages (from scikit-learn->sklearn) (1.2.0)\n",
            "Building wheels for collected packages: sklearn\n",
            "  Building wheel for sklearn (setup.py) ... \u001b[?25l\u001b[?25hdone\n",
            "  Created wheel for sklearn: filename=sklearn-0.0-py2.py3-none-any.whl size=1309 sha256=7e3992b89cb704d79c8bdcbaac3db272cdfb3d1c4ce28eff4e3c6dac2a8d3e33\n",
            "  Stored in directory: /root/.cache/pip/wheels/22/0b/40/fd3f795caaa1fb4c6cb738bc1f56100be1e57da95849bfc897\n",
            "Successfully built sklearn\n",
            "Installing collected packages: sklearn\n",
            "Successfully installed sklearn-0.0\n"
          ]
        }
      ]
    },
    {
      "cell_type": "code",
      "source": [
        "%pip install scikit-learn"
      ],
      "metadata": {
        "colab": {
          "base_uri": "https://localhost:8080/"
        },
        "id": "uyN74La2LmzQ",
        "outputId": "2b5fe084-1264-48c6-fc84-685c76b25b36"
      },
      "execution_count": 13,
      "outputs": [
        {
          "output_type": "stream",
          "name": "stdout",
          "text": [
            "Looking in indexes: https://pypi.org/simple, https://us-python.pkg.dev/colab-wheels/public/simple/\n",
            "Requirement already satisfied: scikit-learn in /usr/local/lib/python3.8/dist-packages (1.0.2)\n",
            "Requirement already satisfied: scipy>=1.1.0 in /usr/local/lib/python3.8/dist-packages (from scikit-learn) (1.7.3)\n",
            "Requirement already satisfied: threadpoolctl>=2.0.0 in /usr/local/lib/python3.8/dist-packages (from scikit-learn) (3.1.0)\n",
            "Requirement already satisfied: numpy>=1.14.6 in /usr/local/lib/python3.8/dist-packages (from scikit-learn) (1.21.6)\n",
            "Requirement already satisfied: joblib>=0.11 in /usr/local/lib/python3.8/dist-packages (from scikit-learn) (1.2.0)\n"
          ]
        }
      ]
    },
    {
      "cell_type": "code",
      "source": [
        "from sklearn.model_selection import train_test_split\n",
        "x_train, x_test, y_train, y_test = train_test_split(x,y, test_size=0.30, random_state=4)"
      ],
      "metadata": {
        "id": "0FstSHz6LqQj"
      },
      "execution_count": 14,
      "outputs": []
    },
    {
      "cell_type": "code",
      "source": [
        "print(\"x_train-shape : \", x_train.shape)\n",
        "print(\"y_train-shape : \", y_train.shape)\n",
        "print(\"x_test-shape : \", x_test.shape)\n",
        "print(\"y_test-shape : \", y_test.shape)"
      ],
      "metadata": {
        "colab": {
          "base_uri": "https://localhost:8080/"
        },
        "id": "gFZs6rnSLuCU",
        "outputId": "98992d3a-59d2-4cbb-f20d-2a9b47c68bf2"
      },
      "execution_count": 15,
      "outputs": [
        {
          "output_type": "stream",
          "name": "stdout",
          "text": [
            "x_train-shape :  (398, 10)\n",
            "y_train-shape :  (398,)\n",
            "x_test-shape :  (171, 10)\n",
            "y_test-shape :  (171,)\n"
          ]
        }
      ]
    },
    {
      "cell_type": "code",
      "source": [
        "def capping(df,cols):\n",
        "    for col in cols:\n",
        "        Q1 = df[col].quantile(0.25)\n",
        "        Q3 = df[col].quantile(0.75)\n",
        "        IQR = Q3 - Q1\n",
        "        Up=Q3 + (1.5 * IQR)\n",
        "        Low=Q1 - (1.5 * IQR)\n",
        "        \n",
        "        df[col]=np.where(df[col]> Up,Up,np.where(df[col]<Low,Low,df[col]))"
      ],
      "metadata": {
        "id": "sVrCcImdLwuf"
      },
      "execution_count": 16,
      "outputs": []
    },
    {
      "cell_type": "code",
      "source": [
        "cols=x_train.columns\n",
        "print(cols)"
      ],
      "metadata": {
        "colab": {
          "base_uri": "https://localhost:8080/"
        },
        "id": "ztceZFJeLz6n",
        "outputId": "619e50bd-437f-4288-9c3d-30938b74b5d6"
      },
      "execution_count": 17,
      "outputs": [
        {
          "output_type": "stream",
          "name": "stdout",
          "text": [
            "Index(['radius_mean', 'texture_mean', 'perimeter_mean', 'area_mean',\n",
            "       'smoothness_mean', 'compactness_mean', 'concavity_mean',\n",
            "       'concave points_mean', 'symmetry_mean', 'fractal_dimension_mean'],\n",
            "      dtype='object')\n"
          ]
        }
      ]
    },
    {
      "cell_type": "code",
      "source": [
        "capping(x_train,cols)"
      ],
      "metadata": {
        "id": "GlZkhNtUL_7R"
      },
      "execution_count": 18,
      "outputs": []
    },
    {
      "cell_type": "code",
      "source": [
        "x_train.describe()"
      ],
      "metadata": {
        "colab": {
          "base_uri": "https://localhost:8080/",
          "height": 300
        },
        "id": "hCg64XonMRNY",
        "outputId": "831523c8-4bb3-4350-cc04-55b9f0b9dd72"
      },
      "execution_count": 19,
      "outputs": [
        {
          "output_type": "execute_result",
          "data": {
            "text/plain": [
              "       radius_mean  texture_mean  perimeter_mean    area_mean  \\\n",
              "count   398.000000    398.000000      398.000000   398.000000   \n",
              "mean     14.155813     19.240977       92.129328   649.392274   \n",
              "std       3.391374      4.197542       23.387033   311.906064   \n",
              "min       6.981000      9.710000       43.790000   143.500000   \n",
              "25%      11.742500     16.152500       75.467500   424.375000   \n",
              "50%      13.415000     18.810000       86.890000   553.750000   \n",
              "75%      16.125000     21.660000      106.100000   799.700000   \n",
              "max      22.698750     29.921250      152.048750  1362.687500   \n",
              "\n",
              "       smoothness_mean  compactness_mean  concavity_mean  concave points_mean  \\\n",
              "count       398.000000        398.000000      398.000000           398.000000   \n",
              "mean          0.096307          0.102543        0.087127             0.049014   \n",
              "std           0.012888          0.049742        0.075478             0.038309   \n",
              "min           0.062510          0.019380        0.000000             0.000000   \n",
              "25%           0.086735          0.063128        0.028280             0.020103   \n",
              "50%           0.095930          0.091370        0.060070             0.033770   \n",
              "75%           0.104575          0.130575        0.132050             0.073940   \n",
              "max           0.131335          0.231746        0.287705             0.154696   \n",
              "\n",
              "       symmetry_mean  fractal_dimension_mean  \n",
              "count     398.000000              398.000000  \n",
              "mean        0.181081                0.062533  \n",
              "std         0.026098                0.006531  \n",
              "min         0.116700                0.049960  \n",
              "25%         0.161825                0.057717  \n",
              "50%         0.179600                0.061315  \n",
              "75%         0.196600                0.066128  \n",
              "max         0.248762                0.078743  "
            ],
            "text/html": [
              "\n",
              "  <div id=\"df-8d0af28b-ad67-482d-9931-5f3de787dc30\">\n",
              "    <div class=\"colab-df-container\">\n",
              "      <div>\n",
              "<style scoped>\n",
              "    .dataframe tbody tr th:only-of-type {\n",
              "        vertical-align: middle;\n",
              "    }\n",
              "\n",
              "    .dataframe tbody tr th {\n",
              "        vertical-align: top;\n",
              "    }\n",
              "\n",
              "    .dataframe thead th {\n",
              "        text-align: right;\n",
              "    }\n",
              "</style>\n",
              "<table border=\"1\" class=\"dataframe\">\n",
              "  <thead>\n",
              "    <tr style=\"text-align: right;\">\n",
              "      <th></th>\n",
              "      <th>radius_mean</th>\n",
              "      <th>texture_mean</th>\n",
              "      <th>perimeter_mean</th>\n",
              "      <th>area_mean</th>\n",
              "      <th>smoothness_mean</th>\n",
              "      <th>compactness_mean</th>\n",
              "      <th>concavity_mean</th>\n",
              "      <th>concave points_mean</th>\n",
              "      <th>symmetry_mean</th>\n",
              "      <th>fractal_dimension_mean</th>\n",
              "    </tr>\n",
              "  </thead>\n",
              "  <tbody>\n",
              "    <tr>\n",
              "      <th>count</th>\n",
              "      <td>398.000000</td>\n",
              "      <td>398.000000</td>\n",
              "      <td>398.000000</td>\n",
              "      <td>398.000000</td>\n",
              "      <td>398.000000</td>\n",
              "      <td>398.000000</td>\n",
              "      <td>398.000000</td>\n",
              "      <td>398.000000</td>\n",
              "      <td>398.000000</td>\n",
              "      <td>398.000000</td>\n",
              "    </tr>\n",
              "    <tr>\n",
              "      <th>mean</th>\n",
              "      <td>14.155813</td>\n",
              "      <td>19.240977</td>\n",
              "      <td>92.129328</td>\n",
              "      <td>649.392274</td>\n",
              "      <td>0.096307</td>\n",
              "      <td>0.102543</td>\n",
              "      <td>0.087127</td>\n",
              "      <td>0.049014</td>\n",
              "      <td>0.181081</td>\n",
              "      <td>0.062533</td>\n",
              "    </tr>\n",
              "    <tr>\n",
              "      <th>std</th>\n",
              "      <td>3.391374</td>\n",
              "      <td>4.197542</td>\n",
              "      <td>23.387033</td>\n",
              "      <td>311.906064</td>\n",
              "      <td>0.012888</td>\n",
              "      <td>0.049742</td>\n",
              "      <td>0.075478</td>\n",
              "      <td>0.038309</td>\n",
              "      <td>0.026098</td>\n",
              "      <td>0.006531</td>\n",
              "    </tr>\n",
              "    <tr>\n",
              "      <th>min</th>\n",
              "      <td>6.981000</td>\n",
              "      <td>9.710000</td>\n",
              "      <td>43.790000</td>\n",
              "      <td>143.500000</td>\n",
              "      <td>0.062510</td>\n",
              "      <td>0.019380</td>\n",
              "      <td>0.000000</td>\n",
              "      <td>0.000000</td>\n",
              "      <td>0.116700</td>\n",
              "      <td>0.049960</td>\n",
              "    </tr>\n",
              "    <tr>\n",
              "      <th>25%</th>\n",
              "      <td>11.742500</td>\n",
              "      <td>16.152500</td>\n",
              "      <td>75.467500</td>\n",
              "      <td>424.375000</td>\n",
              "      <td>0.086735</td>\n",
              "      <td>0.063128</td>\n",
              "      <td>0.028280</td>\n",
              "      <td>0.020103</td>\n",
              "      <td>0.161825</td>\n",
              "      <td>0.057717</td>\n",
              "    </tr>\n",
              "    <tr>\n",
              "      <th>50%</th>\n",
              "      <td>13.415000</td>\n",
              "      <td>18.810000</td>\n",
              "      <td>86.890000</td>\n",
              "      <td>553.750000</td>\n",
              "      <td>0.095930</td>\n",
              "      <td>0.091370</td>\n",
              "      <td>0.060070</td>\n",
              "      <td>0.033770</td>\n",
              "      <td>0.179600</td>\n",
              "      <td>0.061315</td>\n",
              "    </tr>\n",
              "    <tr>\n",
              "      <th>75%</th>\n",
              "      <td>16.125000</td>\n",
              "      <td>21.660000</td>\n",
              "      <td>106.100000</td>\n",
              "      <td>799.700000</td>\n",
              "      <td>0.104575</td>\n",
              "      <td>0.130575</td>\n",
              "      <td>0.132050</td>\n",
              "      <td>0.073940</td>\n",
              "      <td>0.196600</td>\n",
              "      <td>0.066128</td>\n",
              "    </tr>\n",
              "    <tr>\n",
              "      <th>max</th>\n",
              "      <td>22.698750</td>\n",
              "      <td>29.921250</td>\n",
              "      <td>152.048750</td>\n",
              "      <td>1362.687500</td>\n",
              "      <td>0.131335</td>\n",
              "      <td>0.231746</td>\n",
              "      <td>0.287705</td>\n",
              "      <td>0.154696</td>\n",
              "      <td>0.248762</td>\n",
              "      <td>0.078743</td>\n",
              "    </tr>\n",
              "  </tbody>\n",
              "</table>\n",
              "</div>\n",
              "      <button class=\"colab-df-convert\" onclick=\"convertToInteractive('df-8d0af28b-ad67-482d-9931-5f3de787dc30')\"\n",
              "              title=\"Convert this dataframe to an interactive table.\"\n",
              "              style=\"display:none;\">\n",
              "        \n",
              "  <svg xmlns=\"http://www.w3.org/2000/svg\" height=\"24px\"viewBox=\"0 0 24 24\"\n",
              "       width=\"24px\">\n",
              "    <path d=\"M0 0h24v24H0V0z\" fill=\"none\"/>\n",
              "    <path d=\"M18.56 5.44l.94 2.06.94-2.06 2.06-.94-2.06-.94-.94-2.06-.94 2.06-2.06.94zm-11 1L8.5 8.5l.94-2.06 2.06-.94-2.06-.94L8.5 2.5l-.94 2.06-2.06.94zm10 10l.94 2.06.94-2.06 2.06-.94-2.06-.94-.94-2.06-.94 2.06-2.06.94z\"/><path d=\"M17.41 7.96l-1.37-1.37c-.4-.4-.92-.59-1.43-.59-.52 0-1.04.2-1.43.59L10.3 9.45l-7.72 7.72c-.78.78-.78 2.05 0 2.83L4 21.41c.39.39.9.59 1.41.59.51 0 1.02-.2 1.41-.59l7.78-7.78 2.81-2.81c.8-.78.8-2.07 0-2.86zM5.41 20L4 18.59l7.72-7.72 1.47 1.35L5.41 20z\"/>\n",
              "  </svg>\n",
              "      </button>\n",
              "      \n",
              "  <style>\n",
              "    .colab-df-container {\n",
              "      display:flex;\n",
              "      flex-wrap:wrap;\n",
              "      gap: 12px;\n",
              "    }\n",
              "\n",
              "    .colab-df-convert {\n",
              "      background-color: #E8F0FE;\n",
              "      border: none;\n",
              "      border-radius: 50%;\n",
              "      cursor: pointer;\n",
              "      display: none;\n",
              "      fill: #1967D2;\n",
              "      height: 32px;\n",
              "      padding: 0 0 0 0;\n",
              "      width: 32px;\n",
              "    }\n",
              "\n",
              "    .colab-df-convert:hover {\n",
              "      background-color: #E2EBFA;\n",
              "      box-shadow: 0px 1px 2px rgba(60, 64, 67, 0.3), 0px 1px 3px 1px rgba(60, 64, 67, 0.15);\n",
              "      fill: #174EA6;\n",
              "    }\n",
              "\n",
              "    [theme=dark] .colab-df-convert {\n",
              "      background-color: #3B4455;\n",
              "      fill: #D2E3FC;\n",
              "    }\n",
              "\n",
              "    [theme=dark] .colab-df-convert:hover {\n",
              "      background-color: #434B5C;\n",
              "      box-shadow: 0px 1px 3px 1px rgba(0, 0, 0, 0.15);\n",
              "      filter: drop-shadow(0px 1px 2px rgba(0, 0, 0, 0.3));\n",
              "      fill: #FFFFFF;\n",
              "    }\n",
              "  </style>\n",
              "\n",
              "      <script>\n",
              "        const buttonEl =\n",
              "          document.querySelector('#df-8d0af28b-ad67-482d-9931-5f3de787dc30 button.colab-df-convert');\n",
              "        buttonEl.style.display =\n",
              "          google.colab.kernel.accessAllowed ? 'block' : 'none';\n",
              "\n",
              "        async function convertToInteractive(key) {\n",
              "          const element = document.querySelector('#df-8d0af28b-ad67-482d-9931-5f3de787dc30');\n",
              "          const dataTable =\n",
              "            await google.colab.kernel.invokeFunction('convertToInteractive',\n",
              "                                                     [key], {});\n",
              "          if (!dataTable) return;\n",
              "\n",
              "          const docLinkHtml = 'Like what you see? Visit the ' +\n",
              "            '<a target=\"_blank\" href=https://colab.research.google.com/notebooks/data_table.ipynb>data table notebook</a>'\n",
              "            + ' to learn more about interactive tables.';\n",
              "          element.innerHTML = '';\n",
              "          dataTable['output_type'] = 'display_data';\n",
              "          await google.colab.output.renderOutput(dataTable, element);\n",
              "          const docLink = document.createElement('div');\n",
              "          docLink.innerHTML = docLinkHtml;\n",
              "          element.appendChild(docLink);\n",
              "        }\n",
              "      </script>\n",
              "    </div>\n",
              "  </div>\n",
              "  "
            ]
          },
          "metadata": {},
          "execution_count": 19
        }
      ]
    },
    {
      "cell_type": "code",
      "source": [
        "Q1 = x_train.quantile(0.25)\n",
        "Q3 = x_train.quantile(0.75)\n",
        "IQR = Q3 - Q1\n",
        "((x_train < (Q1 - 1.5 * IQR)) | (x_train > (Q3 + 1.5 * IQR))).sum() "
      ],
      "metadata": {
        "colab": {
          "base_uri": "https://localhost:8080/"
        },
        "id": "y9zYM_a0MVOP",
        "outputId": "cefcb035-0fd5-4316-af5b-7997b35a39b5"
      },
      "execution_count": 20,
      "outputs": [
        {
          "output_type": "execute_result",
          "data": {
            "text/plain": [
              "radius_mean               0\n",
              "texture_mean              0\n",
              "perimeter_mean            0\n",
              "area_mean                 0\n",
              "smoothness_mean           0\n",
              "compactness_mean          0\n",
              "concavity_mean            0\n",
              "concave points_mean       0\n",
              "symmetry_mean             0\n",
              "fractal_dimension_mean    0\n",
              "dtype: int64"
            ]
          },
          "metadata": {},
          "execution_count": 20
        }
      ]
    },
    {
      "cell_type": "code",
      "source": [
        "from sklearn.preprocessing import StandardScaler\n",
        "\n",
        "std = StandardScaler()\n",
        "\n",
        "x_train = std.fit_transform(x_train)\n",
        "x_test = std.transform(x_test)"
      ],
      "metadata": {
        "id": "2fwhpy2YMamD"
      },
      "execution_count": 21,
      "outputs": []
    },
    {
      "cell_type": "code",
      "source": [
        "#from sklearn import svm\n",
        "from sklearn.svm import SVC\n",
        "\n",
        "SVM = SVC(kernel='linear', gamma='scale')\n",
        "SVM.fit(x_train, y_train) "
      ],
      "metadata": {
        "colab": {
          "base_uri": "https://localhost:8080/"
        },
        "id": "cDomFAYbMd-b",
        "outputId": "e14cb9b6-158c-41a5-9390-9faaa3b23d27"
      },
      "execution_count": 22,
      "outputs": [
        {
          "output_type": "execute_result",
          "data": {
            "text/plain": [
              "SVC(kernel='linear')"
            ]
          },
          "metadata": {},
          "execution_count": 22
        }
      ]
    },
    {
      "cell_type": "code",
      "source": [
        "y_pred = SVM.predict(x_test)\n",
        "y_pred"
      ],
      "metadata": {
        "colab": {
          "base_uri": "https://localhost:8080/"
        },
        "id": "FqVZDdr2MhLf",
        "outputId": "4b9f2331-4527-4b8f-a7ab-0e8db2acc0b9"
      },
      "execution_count": 23,
      "outputs": [
        {
          "output_type": "execute_result",
          "data": {
            "text/plain": [
              "array([0, 0, 1, 1, 1, 1, 0, 0, 1, 0, 1, 0, 0, 0, 0, 0, 0, 0, 0, 0, 0, 0,\n",
              "       1, 0, 0, 1, 0, 0, 0, 0, 0, 0, 0, 0, 0, 1, 0, 1, 1, 1, 1, 0, 1, 0,\n",
              "       0, 0, 1, 1, 0, 1, 1, 0, 0, 1, 0, 0, 1, 0, 0, 1, 0, 0, 0, 0, 0, 0,\n",
              "       0, 0, 1, 1, 1, 0, 0, 1, 0, 1, 1, 1, 0, 0, 0, 1, 1, 0, 0, 0, 0, 0,\n",
              "       1, 0, 0, 1, 0, 1, 1, 1, 1, 0, 0, 0, 0, 1, 1, 0, 0, 0, 0, 0, 0, 1,\n",
              "       1, 0, 1, 0, 0, 1, 0, 1, 1, 1, 0, 1, 0, 0, 0, 0, 0, 1, 1, 0, 0, 0,\n",
              "       1, 1, 0, 1, 1, 1, 0, 1, 0, 1, 0, 1, 0, 1, 0, 1, 0, 1, 0, 0, 0, 0,\n",
              "       1, 0, 0, 0, 0, 0, 0, 1, 0, 0, 1, 0, 0, 0, 0, 0, 0])"
            ]
          },
          "metadata": {},
          "execution_count": 23
        }
      ]
    },
    {
      "cell_type": "code",
      "source": [
        "df_new = pd.DataFrame({'True_Target': y_test, 'Predicted_target': y_pred})\n",
        "df_new"
      ],
      "metadata": {
        "colab": {
          "base_uri": "https://localhost:8080/",
          "height": 424
        },
        "id": "eX_6w_YmMm8T",
        "outputId": "bd07ad5f-f8e1-462b-c098-95536be60f12"
      },
      "execution_count": 24,
      "outputs": [
        {
          "output_type": "execute_result",
          "data": {
            "text/plain": [
              "     True_Target  Predicted_target\n",
              "340            0                 0\n",
              "382            0                 0\n",
              "300            1                 1\n",
              "262            1                 1\n",
              "363            0                 1\n",
              "..           ...               ...\n",
              "211            0                 0\n",
              "407            0                 0\n",
              "46             0                 0\n",
              "367            0                 0\n",
              "271            0                 0\n",
              "\n",
              "[171 rows x 2 columns]"
            ],
            "text/html": [
              "\n",
              "  <div id=\"df-2edde0ae-fc04-40f4-8cb3-daf3931e1d0b\">\n",
              "    <div class=\"colab-df-container\">\n",
              "      <div>\n",
              "<style scoped>\n",
              "    .dataframe tbody tr th:only-of-type {\n",
              "        vertical-align: middle;\n",
              "    }\n",
              "\n",
              "    .dataframe tbody tr th {\n",
              "        vertical-align: top;\n",
              "    }\n",
              "\n",
              "    .dataframe thead th {\n",
              "        text-align: right;\n",
              "    }\n",
              "</style>\n",
              "<table border=\"1\" class=\"dataframe\">\n",
              "  <thead>\n",
              "    <tr style=\"text-align: right;\">\n",
              "      <th></th>\n",
              "      <th>True_Target</th>\n",
              "      <th>Predicted_target</th>\n",
              "    </tr>\n",
              "  </thead>\n",
              "  <tbody>\n",
              "    <tr>\n",
              "      <th>340</th>\n",
              "      <td>0</td>\n",
              "      <td>0</td>\n",
              "    </tr>\n",
              "    <tr>\n",
              "      <th>382</th>\n",
              "      <td>0</td>\n",
              "      <td>0</td>\n",
              "    </tr>\n",
              "    <tr>\n",
              "      <th>300</th>\n",
              "      <td>1</td>\n",
              "      <td>1</td>\n",
              "    </tr>\n",
              "    <tr>\n",
              "      <th>262</th>\n",
              "      <td>1</td>\n",
              "      <td>1</td>\n",
              "    </tr>\n",
              "    <tr>\n",
              "      <th>363</th>\n",
              "      <td>0</td>\n",
              "      <td>1</td>\n",
              "    </tr>\n",
              "    <tr>\n",
              "      <th>...</th>\n",
              "      <td>...</td>\n",
              "      <td>...</td>\n",
              "    </tr>\n",
              "    <tr>\n",
              "      <th>211</th>\n",
              "      <td>0</td>\n",
              "      <td>0</td>\n",
              "    </tr>\n",
              "    <tr>\n",
              "      <th>407</th>\n",
              "      <td>0</td>\n",
              "      <td>0</td>\n",
              "    </tr>\n",
              "    <tr>\n",
              "      <th>46</th>\n",
              "      <td>0</td>\n",
              "      <td>0</td>\n",
              "    </tr>\n",
              "    <tr>\n",
              "      <th>367</th>\n",
              "      <td>0</td>\n",
              "      <td>0</td>\n",
              "    </tr>\n",
              "    <tr>\n",
              "      <th>271</th>\n",
              "      <td>0</td>\n",
              "      <td>0</td>\n",
              "    </tr>\n",
              "  </tbody>\n",
              "</table>\n",
              "<p>171 rows × 2 columns</p>\n",
              "</div>\n",
              "      <button class=\"colab-df-convert\" onclick=\"convertToInteractive('df-2edde0ae-fc04-40f4-8cb3-daf3931e1d0b')\"\n",
              "              title=\"Convert this dataframe to an interactive table.\"\n",
              "              style=\"display:none;\">\n",
              "        \n",
              "  <svg xmlns=\"http://www.w3.org/2000/svg\" height=\"24px\"viewBox=\"0 0 24 24\"\n",
              "       width=\"24px\">\n",
              "    <path d=\"M0 0h24v24H0V0z\" fill=\"none\"/>\n",
              "    <path d=\"M18.56 5.44l.94 2.06.94-2.06 2.06-.94-2.06-.94-.94-2.06-.94 2.06-2.06.94zm-11 1L8.5 8.5l.94-2.06 2.06-.94-2.06-.94L8.5 2.5l-.94 2.06-2.06.94zm10 10l.94 2.06.94-2.06 2.06-.94-2.06-.94-.94-2.06-.94 2.06-2.06.94z\"/><path d=\"M17.41 7.96l-1.37-1.37c-.4-.4-.92-.59-1.43-.59-.52 0-1.04.2-1.43.59L10.3 9.45l-7.72 7.72c-.78.78-.78 2.05 0 2.83L4 21.41c.39.39.9.59 1.41.59.51 0 1.02-.2 1.41-.59l7.78-7.78 2.81-2.81c.8-.78.8-2.07 0-2.86zM5.41 20L4 18.59l7.72-7.72 1.47 1.35L5.41 20z\"/>\n",
              "  </svg>\n",
              "      </button>\n",
              "      \n",
              "  <style>\n",
              "    .colab-df-container {\n",
              "      display:flex;\n",
              "      flex-wrap:wrap;\n",
              "      gap: 12px;\n",
              "    }\n",
              "\n",
              "    .colab-df-convert {\n",
              "      background-color: #E8F0FE;\n",
              "      border: none;\n",
              "      border-radius: 50%;\n",
              "      cursor: pointer;\n",
              "      display: none;\n",
              "      fill: #1967D2;\n",
              "      height: 32px;\n",
              "      padding: 0 0 0 0;\n",
              "      width: 32px;\n",
              "    }\n",
              "\n",
              "    .colab-df-convert:hover {\n",
              "      background-color: #E2EBFA;\n",
              "      box-shadow: 0px 1px 2px rgba(60, 64, 67, 0.3), 0px 1px 3px 1px rgba(60, 64, 67, 0.15);\n",
              "      fill: #174EA6;\n",
              "    }\n",
              "\n",
              "    [theme=dark] .colab-df-convert {\n",
              "      background-color: #3B4455;\n",
              "      fill: #D2E3FC;\n",
              "    }\n",
              "\n",
              "    [theme=dark] .colab-df-convert:hover {\n",
              "      background-color: #434B5C;\n",
              "      box-shadow: 0px 1px 3px 1px rgba(0, 0, 0, 0.15);\n",
              "      filter: drop-shadow(0px 1px 2px rgba(0, 0, 0, 0.3));\n",
              "      fill: #FFFFFF;\n",
              "    }\n",
              "  </style>\n",
              "\n",
              "      <script>\n",
              "        const buttonEl =\n",
              "          document.querySelector('#df-2edde0ae-fc04-40f4-8cb3-daf3931e1d0b button.colab-df-convert');\n",
              "        buttonEl.style.display =\n",
              "          google.colab.kernel.accessAllowed ? 'block' : 'none';\n",
              "\n",
              "        async function convertToInteractive(key) {\n",
              "          const element = document.querySelector('#df-2edde0ae-fc04-40f4-8cb3-daf3931e1d0b');\n",
              "          const dataTable =\n",
              "            await google.colab.kernel.invokeFunction('convertToInteractive',\n",
              "                                                     [key], {});\n",
              "          if (!dataTable) return;\n",
              "\n",
              "          const docLinkHtml = 'Like what you see? Visit the ' +\n",
              "            '<a target=\"_blank\" href=https://colab.research.google.com/notebooks/data_table.ipynb>data table notebook</a>'\n",
              "            + ' to learn more about interactive tables.';\n",
              "          element.innerHTML = '';\n",
              "          dataTable['output_type'] = 'display_data';\n",
              "          await google.colab.output.renderOutput(dataTable, element);\n",
              "          const docLink = document.createElement('div');\n",
              "          docLink.innerHTML = docLinkHtml;\n",
              "          element.appendChild(docLink);\n",
              "        }\n",
              "      </script>\n",
              "    </div>\n",
              "  </div>\n",
              "  "
            ]
          },
          "metadata": {},
          "execution_count": 24
        }
      ]
    },
    {
      "cell_type": "code",
      "source": [
        "from sklearn.metrics import confusion_matrix, ConfusionMatrixDisplay "
      ],
      "metadata": {
        "id": "J-xXtReMMqas"
      },
      "execution_count": 25,
      "outputs": []
    },
    {
      "cell_type": "code",
      "source": [
        "cnf_matrix_test = confusion_matrix(y_test, y_pred)\n",
        "ConfusionMatrixDisplay(confusion_matrix=cnf_matrix_test, display_labels=SVM.classes_).plot()"
      ],
      "metadata": {
        "colab": {
          "base_uri": "https://localhost:8080/",
          "height": 296
        },
        "id": "EpAe5QB1Mtag",
        "outputId": "d0cf9c57-24a4-413c-8943-c18b93a36a48"
      },
      "execution_count": 26,
      "outputs": [
        {
          "output_type": "execute_result",
          "data": {
            "text/plain": [
              "<sklearn.metrics._plot.confusion_matrix.ConfusionMatrixDisplay at 0x7f8306c53a90>"
            ]
          },
          "metadata": {},
          "execution_count": 26
        },
        {
          "output_type": "display_data",
          "data": {
            "text/plain": [
              "<Figure size 432x288 with 2 Axes>"
            ],
            "image/png": "[encoded data removed]"
          },
          "metadata": {
            "needs_background": "light"
          }
        }
      ]
    },
    {
      "cell_type": "code",
      "source": [
        "from sklearn.metrics import confusion_matrix, accuracy_score\n",
        "accuracy = accuracy_score(y_test, y_pred)\n",
        "cm = confusion_matrix(y_test, y_pred)\n",
        "print(cm)\n",
        "print(\"The model accuracy is\", accuracy )"
      ],
      "metadata": {
        "colab": {
          "base_uri": "https://localhost:8080/"
        },
        "id": "lu7kAvyhMwBw",
        "outputId": "3fcf2cd5-08aa-4386-f098-9d0ed84be71c"
      },
      "execution_count": 27,
      "outputs": [
        {
          "output_type": "stream",
          "name": "stdout",
          "text": [
            "[[107  10]\n",
            " [  2  52]]\n",
            "The model accuracy is 0.9298245614035088\n"
          ]
        }
      ]
    },
    {
      "cell_type": "code",
      "source": [
        "group_names = [\"True Pos\",\"False Pos\",\"False Neg\",\"True Neg\"]\n",
        "group_counts = [\"{0:0.0f}\".format(value) for value in cm.flatten()]\n",
        "group_percentages = [\"{0:.2%}\".format(value) for value in cm.flatten()/np.sum(cm)]\n",
        "labels = [f\"{v1}\\n{v2}\\n{v3}\" for v1, v2, v3 in zip(group_names, group_counts, group_percentages)]\n",
        "labels = np.asarray(labels).reshape(2,2)\n",
        "\n",
        "sns.heatmap(cm, annot=labels, fmt=\"\", cmap='Blues')"
      ],
      "metadata": {
        "colab": {
          "base_uri": "https://localhost:8080/",
          "height": 282
        },
        "id": "jl86J2TvM1aO",
        "outputId": "dd9100e3-d72e-43bf-9b63-34b2bf60f61f"
      },
      "execution_count": 28,
      "outputs": [
        {
          "output_type": "execute_result",
          "data": {
            "text/plain": [
              "<matplotlib.axes._subplots.AxesSubplot at 0x7f83044b98e0>"
            ]
          },
          "metadata": {},
          "execution_count": 28
        },
        {
          "output_type": "display_data",
          "data": {
            "text/plain": [
              "<Figure size 432x288 with 2 Axes>"
            ],
            "image/png": "[encoded data removed]"
          },
          "metadata": {
            "needs_background": "light"
          }
        }
      ]
    },
    {
      "cell_type": "code",
      "source": [
        "from sklearn.metrics import classification_report\n",
        "predictions = SVM.predict(x_test)\n",
        "print(classification_report(y_test, predictions))"
      ],
      "metadata": {
        "colab": {
          "base_uri": "https://localhost:8080/"
        },
        "id": "ZV7WnAXdM38v",
        "outputId": "7dac4296-5989-45ca-e4a9-238df7643d7e"
      },
      "execution_count": 29,
      "outputs": [
        {
          "output_type": "stream",
          "name": "stdout",
          "text": [
            "              precision    recall  f1-score   support\n",
            "\n",
            "           0       0.98      0.91      0.95       117\n",
            "           1       0.84      0.96      0.90        54\n",
            "\n",
            "    accuracy                           0.93       171\n",
            "   macro avg       0.91      0.94      0.92       171\n",
            "weighted avg       0.94      0.93      0.93       171\n",
            "\n"
          ]
        }
      ]
    },
    {
      "cell_type": "code",
      "source": [
        "from sklearn.model_selection import GridSearchCV\n",
        "# defining parameter range\n",
        "param_grid = {'C': [0.1, 0.2,0.3,0.4,0.5,0.6,0.7,0.8,0.9,1.0], \n",
        "              'gamma': [1, 0.1, 0.01, 0.001, 0.0001],\n",
        "              'kernel': ['rbf']} \n",
        " #refitting i to find the best parameter cobination fist with cross vvalidation and again without cross validation. \n",
        "grid = GridSearchCV(SVC(), param_grid, refit = True, verbose = 3) \n",
        "  \n",
        "# fitting the model for grid search\n",
        "grid.fit(x_train, y_train)"
      ],
      "metadata": {
        "colab": {
          "base_uri": "https://localhost:8080/"
        },
        "id": "0Bea5NS8M7XE",
        "outputId": "28a89d01-6167-4880-c69e-9600ac6b2cfd"
      },
      "execution_count": 30,
      "outputs": [
        {
          "output_type": "stream",
          "name": "stdout",
          "text": [
            "Fitting 5 folds for each of 50 candidates, totalling 250 fits\n",
            "[CV 1/5] END ........C=0.1, gamma=1, kernel=rbf;, score=0.600 total time=   0.0s\n",
            "[CV 2/5] END ........C=0.1, gamma=1, kernel=rbf;, score=0.600 total time=   0.0s\n",
            "[CV 3/5] END ........C=0.1, gamma=1, kernel=rbf;, score=0.600 total time=   0.0s\n",
            "[CV 4/5] END ........C=0.1, gamma=1, kernel=rbf;, score=0.608 total time=   0.0s\n",
            "[CV 5/5] END ........C=0.1, gamma=1, kernel=rbf;, score=0.608 total time=   0.0s\n",
            "[CV 1/5] END ......C=0.1, gamma=0.1, kernel=rbf;, score=0.938 total time=   0.0s\n",
            "[CV 2/5] END ......C=0.1, gamma=0.1, kernel=rbf;, score=0.912 total time=   0.0s\n",
            "[CV 3/5] END ......C=0.1, gamma=0.1, kernel=rbf;, score=0.975 total time=   0.0s\n",
            "[CV 4/5] END ......C=0.1, gamma=0.1, kernel=rbf;, score=0.899 total time=   0.0s\n",
            "[CV 5/5] END ......C=0.1, gamma=0.1, kernel=rbf;, score=0.924 total time=   0.0s\n",
            "[CV 1/5] END .....C=0.1, gamma=0.01, kernel=rbf;, score=0.938 total time=   0.0s\n",
            "[CV 2/5] END .....C=0.1, gamma=0.01, kernel=rbf;, score=0.887 total time=   0.0s\n",
            "[CV 3/5] END .....C=0.1, gamma=0.01, kernel=rbf;, score=0.938 total time=   0.0s\n",
            "[CV 4/5] END .....C=0.1, gamma=0.01, kernel=rbf;, score=0.835 total time=   0.0s\n",
            "[CV 5/5] END .....C=0.1, gamma=0.01, kernel=rbf;, score=0.924 total time=   0.0s\n",
            "[CV 1/5] END ....C=0.1, gamma=0.001, kernel=rbf;, score=0.600 total time=   0.0s\n",
            "[CV 2/5] END ....C=0.1, gamma=0.001, kernel=rbf;, score=0.600 total time=   0.0s\n",
            "[CV 3/5] END ....C=0.1, gamma=0.001, kernel=rbf;, score=0.600 total time=   0.0s\n",
            "[CV 4/5] END ....C=0.1, gamma=0.001, kernel=rbf;, score=0.608 total time=   0.0s\n",
            "[CV 5/5] END ....C=0.1, gamma=0.001, kernel=rbf;, score=0.608 total time=   0.0s\n",
            "[CV 1/5] END ...C=0.1, gamma=0.0001, kernel=rbf;, score=0.600 total time=   0.0s\n",
            "[CV 2/5] END ...C=0.1, gamma=0.0001, kernel=rbf;, score=0.600 total time=   0.0s\n",
            "[CV 3/5] END ...C=0.1, gamma=0.0001, kernel=rbf;, score=0.600 total time=   0.0s\n",
            "[CV 4/5] END ...C=0.1, gamma=0.0001, kernel=rbf;, score=0.608 total time=   0.0s\n",
            "[CV 5/5] END ...C=0.1, gamma=0.0001, kernel=rbf;, score=0.608 total time=   0.0s\n",
            "[CV 1/5] END ........C=0.2, gamma=1, kernel=rbf;, score=0.662 total time=   0.0s\n",
            "[CV 2/5] END ........C=0.2, gamma=1, kernel=rbf;, score=0.625 total time=   0.0s\n",
            "[CV 3/5] END ........C=0.2, gamma=1, kernel=rbf;, score=0.675 total time=   0.0s\n",
            "[CV 4/5] END ........C=0.2, gamma=1, kernel=rbf;, score=0.646 total time=   0.0s\n",
            "[CV 5/5] END ........C=0.2, gamma=1, kernel=rbf;, score=0.646 total time=   0.0s\n",
            "[CV 1/5] END ......C=0.2, gamma=0.1, kernel=rbf;, score=0.963 total time=   0.0s\n",
            "[CV 2/5] END ......C=0.2, gamma=0.1, kernel=rbf;, score=0.925 total time=   0.0s\n",
            "[CV 3/5] END ......C=0.2, gamma=0.1, kernel=rbf;, score=0.975 total time=   0.0s\n",
            "[CV 4/5] END ......C=0.2, gamma=0.1, kernel=rbf;, score=0.899 total time=   0.0s\n",
            "[CV 5/5] END ......C=0.2, gamma=0.1, kernel=rbf;, score=0.924 total time=   0.0s\n",
            "[CV 1/5] END .....C=0.2, gamma=0.01, kernel=rbf;, score=0.938 total time=   0.0s\n",
            "[CV 2/5] END .....C=0.2, gamma=0.01, kernel=rbf;, score=0.900 total time=   0.0s\n",
            "[CV 3/5] END .....C=0.2, gamma=0.01, kernel=rbf;, score=0.938 total time=   0.0s\n",
            "[CV 4/5] END .....C=0.2, gamma=0.01, kernel=rbf;, score=0.886 total time=   0.0s\n",
            "[CV 5/5] END .....C=0.2, gamma=0.01, kernel=rbf;, score=0.924 total time=   0.0s\n",
            "[CV 1/5] END ....C=0.2, gamma=0.001, kernel=rbf;, score=0.700 total time=   0.0s\n",
            "[CV 2/5] END ....C=0.2, gamma=0.001, kernel=rbf;, score=0.700 total time=   0.0s\n",
            "[CV 3/5] END ....C=0.2, gamma=0.001, kernel=rbf;, score=0.650 total time=   0.0s\n",
            "[CV 4/5] END ....C=0.2, gamma=0.001, kernel=rbf;, score=0.658 total time=   0.0s\n",
            "[CV 5/5] END ....C=0.2, gamma=0.001, kernel=rbf;, score=0.722 total time=   0.0s\n",
            "[CV 1/5] END ...C=0.2, gamma=0.0001, kernel=rbf;, score=0.600 total time=   0.0s\n",
            "[CV 2/5] END ...C=0.2, gamma=0.0001, kernel=rbf;, score=0.600 total time=   0.0s\n",
            "[CV 3/5] END ...C=0.2, gamma=0.0001, kernel=rbf;, score=0.600 total time=   0.0s\n",
            "[CV 4/5] END ...C=0.2, gamma=0.0001, kernel=rbf;, score=0.608 total time=   0.0s\n",
            "[CV 5/5] END ...C=0.2, gamma=0.0001, kernel=rbf;, score=0.608 total time=   0.0s\n",
            "[CV 1/5] END ........C=0.3, gamma=1, kernel=rbf;, score=0.812 total time=   0.0s\n",
            "[CV 2/5] END ........C=0.3, gamma=1, kernel=rbf;, score=0.812 total time=   0.0s\n",
            "[CV 3/5] END ........C=0.3, gamma=1, kernel=rbf;, score=0.812 total time=   0.0s\n",
            "[CV 4/5] END ........C=0.3, gamma=1, kernel=rbf;, score=0.747 total time=   0.0s\n",
            "[CV 5/5] END ........C=0.3, gamma=1, kernel=rbf;, score=0.797 total time=   0.0s\n",
            "[CV 1/5] END ......C=0.3, gamma=0.1, kernel=rbf;, score=0.963 total time=   0.0s\n",
            "[CV 2/5] END ......C=0.3, gamma=0.1, kernel=rbf;, score=0.925 total time=   0.0s\n",
            "[CV 3/5] END ......C=0.3, gamma=0.1, kernel=rbf;, score=0.975 total time=   0.0s\n",
            "[CV 4/5] END ......C=0.3, gamma=0.1, kernel=rbf;, score=0.899 total time=   0.0s\n",
            "[CV 5/5] END ......C=0.3, gamma=0.1, kernel=rbf;, score=0.924 total time=   0.0s\n",
            "[CV 1/5] END .....C=0.3, gamma=0.01, kernel=rbf;, score=0.963 total time=   0.0s\n",
            "[CV 2/5] END .....C=0.3, gamma=0.01, kernel=rbf;, score=0.900 total time=   0.0s\n",
            "[CV 3/5] END .....C=0.3, gamma=0.01, kernel=rbf;, score=0.950 total time=   0.0s\n",
            "[CV 4/5] END .....C=0.3, gamma=0.01, kernel=rbf;, score=0.886 total time=   0.0s\n",
            "[CV 5/5] END .....C=0.3, gamma=0.01, kernel=rbf;, score=0.924 total time=   0.0s\n",
            "[CV 1/5] END ....C=0.3, gamma=0.001, kernel=rbf;, score=0.838 total time=   0.0s\n",
            "[CV 2/5] END ....C=0.3, gamma=0.001, kernel=rbf;, score=0.775 total time=   0.0s\n",
            "[CV 3/5] END ....C=0.3, gamma=0.001, kernel=rbf;, score=0.850 total time=   0.0s\n",
            "[CV 4/5] END ....C=0.3, gamma=0.001, kernel=rbf;, score=0.747 total time=   0.0s\n",
            "[CV 5/5] END ....C=0.3, gamma=0.001, kernel=rbf;, score=0.848 total time=   0.0s\n",
            "[CV 1/5] END ...C=0.3, gamma=0.0001, kernel=rbf;, score=0.600 total time=   0.0s\n",
            "[CV 2/5] END ...C=0.3, gamma=0.0001, kernel=rbf;, score=0.600 total time=   0.0s\n",
            "[CV 3/5] END ...C=0.3, gamma=0.0001, kernel=rbf;, score=0.600 total time=   0.0s\n",
            "[CV 4/5] END ...C=0.3, gamma=0.0001, kernel=rbf;, score=0.608 total time=   0.0s\n",
            "[CV 5/5] END ...C=0.3, gamma=0.0001, kernel=rbf;, score=0.608 total time=   0.0s\n",
            "[CV 1/5] END ........C=0.4, gamma=1, kernel=rbf;, score=0.925 total time=   0.0s\n",
            "[CV 2/5] END ........C=0.4, gamma=1, kernel=rbf;, score=0.863 total time=   0.0s\n",
            "[CV 3/5] END ........C=0.4, gamma=1, kernel=rbf;, score=0.900 total time=   0.0s\n",
            "[CV 4/5] END ........C=0.4, gamma=1, kernel=rbf;, score=0.861 total time=   0.0s\n",
            "[CV 5/5] END ........C=0.4, gamma=1, kernel=rbf;, score=0.861 total time=   0.0s\n",
            "[CV 1/5] END ......C=0.4, gamma=0.1, kernel=rbf;, score=0.963 total time=   0.0s\n",
            "[CV 2/5] END ......C=0.4, gamma=0.1, kernel=rbf;, score=0.950 total time=   0.0s\n",
            "[CV 3/5] END ......C=0.4, gamma=0.1, kernel=rbf;, score=0.975 total time=   0.0s\n",
            "[CV 4/5] END ......C=0.4, gamma=0.1, kernel=rbf;, score=0.899 total time=   0.0s\n",
            "[CV 5/5] END ......C=0.4, gamma=0.1, kernel=rbf;, score=0.924 total time=   0.0s\n",
            "[CV 1/5] END .....C=0.4, gamma=0.01, kernel=rbf;, score=0.963 total time=   0.0s\n",
            "[CV 2/5] END .....C=0.4, gamma=0.01, kernel=rbf;, score=0.900 total time=   0.0s\n",
            "[CV 3/5] END .....C=0.4, gamma=0.01, kernel=rbf;, score=0.950 total time=   0.0s\n",
            "[CV 4/5] END .....C=0.4, gamma=0.01, kernel=rbf;, score=0.886 total time=   0.0s\n",
            "[CV 5/5] END .....C=0.4, gamma=0.01, kernel=rbf;, score=0.911 total time=   0.0s\n",
            "[CV 1/5] END ....C=0.4, gamma=0.001, kernel=rbf;, score=0.887 total time=   0.0s\n",
            "[CV 2/5] END ....C=0.4, gamma=0.001, kernel=rbf;, score=0.800 total time=   0.0s\n",
            "[CV 3/5] END ....C=0.4, gamma=0.001, kernel=rbf;, score=0.850 total time=   0.0s\n",
            "[CV 4/5] END ....C=0.4, gamma=0.001, kernel=rbf;, score=0.785 total time=   0.0s\n",
            "[CV 5/5] END ....C=0.4, gamma=0.001, kernel=rbf;, score=0.899 total time=   0.0s\n",
            "[CV 1/5] END ...C=0.4, gamma=0.0001, kernel=rbf;, score=0.600 total time=   0.0s\n",
            "[CV 2/5] END ...C=0.4, gamma=0.0001, kernel=rbf;, score=0.600 total time=   0.0s\n",
            "[CV 3/5] END ...C=0.4, gamma=0.0001, kernel=rbf;, score=0.600 total time=   0.0s\n",
            "[CV 4/5] END ...C=0.4, gamma=0.0001, kernel=rbf;, score=0.608 total time=   0.0s\n",
            "[CV 5/5] END ...C=0.4, gamma=0.0001, kernel=rbf;, score=0.608 total time=   0.0s\n",
            "[CV 1/5] END ........C=0.5, gamma=1, kernel=rbf;, score=0.950 total time=   0.0s\n",
            "[CV 2/5] END ........C=0.5, gamma=1, kernel=rbf;, score=0.887 total time=   0.0s\n",
            "[CV 3/5] END ........C=0.5, gamma=1, kernel=rbf;, score=0.925 total time=   0.0s\n",
            "[CV 4/5] END ........C=0.5, gamma=1, kernel=rbf;, score=0.873 total time=   0.0s\n",
            "[CV 5/5] END ........C=0.5, gamma=1, kernel=rbf;, score=0.911 total time=   0.0s\n",
            "[CV 1/5] END ......C=0.5, gamma=0.1, kernel=rbf;, score=0.975 total time=   0.0s\n",
            "[CV 2/5] END ......C=0.5, gamma=0.1, kernel=rbf;, score=0.950 total time=   0.0s\n",
            "[CV 3/5] END ......C=0.5, gamma=0.1, kernel=rbf;, score=0.975 total time=   0.0s\n",
            "[CV 4/5] END ......C=0.5, gamma=0.1, kernel=rbf;, score=0.911 total time=   0.0s\n",
            "[CV 5/5] END ......C=0.5, gamma=0.1, kernel=rbf;, score=0.924 total time=   0.0s\n",
            "[CV 1/5] END .....C=0.5, gamma=0.01, kernel=rbf;, score=0.963 total time=   0.0s\n",
            "[CV 2/5] END .....C=0.5, gamma=0.01, kernel=rbf;, score=0.900 total time=   0.0s\n",
            "[CV 3/5] END .....C=0.5, gamma=0.01, kernel=rbf;, score=0.950 total time=   0.0s\n",
            "[CV 4/5] END .....C=0.5, gamma=0.01, kernel=rbf;, score=0.899 total time=   0.0s\n",
            "[CV 5/5] END .....C=0.5, gamma=0.01, kernel=rbf;, score=0.924 total time=   0.0s\n",
            "[CV 1/5] END ....C=0.5, gamma=0.001, kernel=rbf;, score=0.900 total time=   0.0s\n",
            "[CV 2/5] END ....C=0.5, gamma=0.001, kernel=rbf;, score=0.812 total time=   0.0s\n",
            "[CV 3/5] END ....C=0.5, gamma=0.001, kernel=rbf;, score=0.900 total time=   0.0s\n",
            "[CV 4/5] END ....C=0.5, gamma=0.001, kernel=rbf;, score=0.797 total time=   0.0s\n",
            "[CV 5/5] END ....C=0.5, gamma=0.001, kernel=rbf;, score=0.911 total time=   0.0s\n",
            "[CV 1/5] END ...C=0.5, gamma=0.0001, kernel=rbf;, score=0.600 total time=   0.0s\n",
            "[CV 2/5] END ...C=0.5, gamma=0.0001, kernel=rbf;, score=0.600 total time=   0.0s\n",
            "[CV 3/5] END ...C=0.5, gamma=0.0001, kernel=rbf;, score=0.600 total time=   0.0s\n",
            "[CV 4/5] END ...C=0.5, gamma=0.0001, kernel=rbf;, score=0.608 total time=   0.0s\n",
            "[CV 5/5] END ...C=0.5, gamma=0.0001, kernel=rbf;, score=0.608 total time=   0.0s\n",
            "[CV 1/5] END ........C=0.6, gamma=1, kernel=rbf;, score=0.963 total time=   0.0s\n",
            "[CV 2/5] END ........C=0.6, gamma=1, kernel=rbf;, score=0.925 total time=   0.0s\n",
            "[CV 3/5] END ........C=0.6, gamma=1, kernel=rbf;, score=0.925 total time=   0.0s\n",
            "[CV 4/5] END ........C=0.6, gamma=1, kernel=rbf;, score=0.899 total time=   0.0s\n",
            "[CV 5/5] END ........C=0.6, gamma=1, kernel=rbf;, score=0.911 total time=   0.0s\n",
            "[CV 1/5] END ......C=0.6, gamma=0.1, kernel=rbf;, score=0.975 total time=   0.0s\n",
            "[CV 2/5] END ......C=0.6, gamma=0.1, kernel=rbf;, score=0.950 total time=   0.0s\n",
            "[CV 3/5] END ......C=0.6, gamma=0.1, kernel=rbf;, score=0.963 total time=   0.0s\n",
            "[CV 4/5] END ......C=0.6, gamma=0.1, kernel=rbf;, score=0.911 total time=   0.0s\n",
            "[CV 5/5] END ......C=0.6, gamma=0.1, kernel=rbf;, score=0.924 total time=   0.0s\n",
            "[CV 1/5] END .....C=0.6, gamma=0.01, kernel=rbf;, score=0.963 total time=   0.0s\n",
            "[CV 2/5] END .....C=0.6, gamma=0.01, kernel=rbf;, score=0.912 total time=   0.0s\n",
            "[CV 3/5] END .....C=0.6, gamma=0.01, kernel=rbf;, score=0.950 total time=   0.0s\n",
            "[CV 4/5] END .....C=0.6, gamma=0.01, kernel=rbf;, score=0.899 total time=   0.0s\n",
            "[CV 5/5] END .....C=0.6, gamma=0.01, kernel=rbf;, score=0.911 total time=   0.0s\n",
            "[CV 1/5] END ....C=0.6, gamma=0.001, kernel=rbf;, score=0.900 total time=   0.0s\n",
            "[CV 2/5] END ....C=0.6, gamma=0.001, kernel=rbf;, score=0.850 total time=   0.0s\n",
            "[CV 3/5] END ....C=0.6, gamma=0.001, kernel=rbf;, score=0.912 total time=   0.0s\n",
            "[CV 4/5] END ....C=0.6, gamma=0.001, kernel=rbf;, score=0.810 total time=   0.0s\n",
            "[CV 5/5] END ....C=0.6, gamma=0.001, kernel=rbf;, score=0.911 total time=   0.0s\n",
            "[CV 1/5] END ...C=0.6, gamma=0.0001, kernel=rbf;, score=0.600 total time=   0.0s\n",
            "[CV 2/5] END ...C=0.6, gamma=0.0001, kernel=rbf;, score=0.600 total time=   0.0s\n",
            "[CV 3/5] END ...C=0.6, gamma=0.0001, kernel=rbf;, score=0.600 total time=   0.0s\n",
            "[CV 4/5] END ...C=0.6, gamma=0.0001, kernel=rbf;, score=0.608 total time=   0.0s\n",
            "[CV 5/5] END ...C=0.6, gamma=0.0001, kernel=rbf;, score=0.608 total time=   0.0s\n",
            "[CV 1/5] END ........C=0.7, gamma=1, kernel=rbf;, score=0.912 total time=   0.0s\n",
            "[CV 2/5] END ........C=0.7, gamma=1, kernel=rbf;, score=0.938 total time=   0.0s\n",
            "[CV 3/5] END ........C=0.7, gamma=1, kernel=rbf;, score=0.950 total time=   0.0s\n",
            "[CV 4/5] END ........C=0.7, gamma=1, kernel=rbf;, score=0.911 total time=   0.0s\n",
            "[CV 5/5] END ........C=0.7, gamma=1, kernel=rbf;, score=0.924 total time=   0.0s\n",
            "[CV 1/5] END ......C=0.7, gamma=0.1, kernel=rbf;, score=0.975 total time=   0.0s\n",
            "[CV 2/5] END ......C=0.7, gamma=0.1, kernel=rbf;, score=0.950 total time=   0.0s\n",
            "[CV 3/5] END ......C=0.7, gamma=0.1, kernel=rbf;, score=0.963 total time=   0.0s\n",
            "[CV 4/5] END ......C=0.7, gamma=0.1, kernel=rbf;, score=0.911 total time=   0.0s\n",
            "[CV 5/5] END ......C=0.7, gamma=0.1, kernel=rbf;, score=0.924 total time=   0.0s\n",
            "[CV 1/5] END .....C=0.7, gamma=0.01, kernel=rbf;, score=0.963 total time=   0.0s\n",
            "[CV 2/5] END .....C=0.7, gamma=0.01, kernel=rbf;, score=0.912 total time=   0.0s\n",
            "[CV 3/5] END .....C=0.7, gamma=0.01, kernel=rbf;, score=0.950 total time=   0.0s\n",
            "[CV 4/5] END .....C=0.7, gamma=0.01, kernel=rbf;, score=0.911 total time=   0.0s\n",
            "[CV 5/5] END .....C=0.7, gamma=0.01, kernel=rbf;, score=0.911 total time=   0.0s\n",
            "[CV 1/5] END ....C=0.7, gamma=0.001, kernel=rbf;, score=0.912 total time=   0.0s\n",
            "[CV 2/5] END ....C=0.7, gamma=0.001, kernel=rbf;, score=0.875 total time=   0.0s\n",
            "[CV 3/5] END ....C=0.7, gamma=0.001, kernel=rbf;, score=0.912 total time=   0.0s\n",
            "[CV 4/5] END ....C=0.7, gamma=0.001, kernel=rbf;, score=0.810 total time=   0.0s\n",
            "[CV 5/5] END ....C=0.7, gamma=0.001, kernel=rbf;, score=0.924 total time=   0.0s\n",
            "[CV 1/5] END ...C=0.7, gamma=0.0001, kernel=rbf;, score=0.600 total time=   0.0s\n",
            "[CV 2/5] END ...C=0.7, gamma=0.0001, kernel=rbf;, score=0.600 total time=   0.0s\n",
            "[CV 3/5] END ...C=0.7, gamma=0.0001, kernel=rbf;, score=0.600 total time=   0.0s\n",
            "[CV 4/5] END ...C=0.7, gamma=0.0001, kernel=rbf;, score=0.608 total time=   0.0s\n",
            "[CV 5/5] END ...C=0.7, gamma=0.0001, kernel=rbf;, score=0.608 total time=   0.0s\n",
            "[CV 1/5] END ........C=0.8, gamma=1, kernel=rbf;, score=0.912 total time=   0.0s\n",
            "[CV 2/5] END ........C=0.8, gamma=1, kernel=rbf;, score=0.950 total time=   0.0s\n",
            "[CV 3/5] END ........C=0.8, gamma=1, kernel=rbf;, score=0.950 total time=   0.0s\n",
            "[CV 4/5] END ........C=0.8, gamma=1, kernel=rbf;, score=0.911 total time=   0.0s\n",
            "[CV 5/5] END ........C=0.8, gamma=1, kernel=rbf;, score=0.924 total time=   0.0s\n",
            "[CV 1/5] END ......C=0.8, gamma=0.1, kernel=rbf;, score=0.975 total time=   0.0s\n",
            "[CV 2/5] END ......C=0.8, gamma=0.1, kernel=rbf;, score=0.950 total time=   0.0s\n",
            "[CV 3/5] END ......C=0.8, gamma=0.1, kernel=rbf;, score=0.950 total time=   0.0s\n",
            "[CV 4/5] END ......C=0.8, gamma=0.1, kernel=rbf;, score=0.924 total time=   0.0s\n",
            "[CV 5/5] END ......C=0.8, gamma=0.1, kernel=rbf;, score=0.937 total time=   0.0s\n",
            "[CV 1/5] END .....C=0.8, gamma=0.01, kernel=rbf;, score=0.963 total time=   0.0s\n",
            "[CV 2/5] END .....C=0.8, gamma=0.01, kernel=rbf;, score=0.912 total time=   0.0s\n",
            "[CV 3/5] END .....C=0.8, gamma=0.01, kernel=rbf;, score=0.950 total time=   0.0s\n",
            "[CV 4/5] END .....C=0.8, gamma=0.01, kernel=rbf;, score=0.911 total time=   0.0s\n",
            "[CV 5/5] END .....C=0.8, gamma=0.01, kernel=rbf;, score=0.924 total time=   0.0s\n",
            "[CV 1/5] END ....C=0.8, gamma=0.001, kernel=rbf;, score=0.912 total time=   0.0s\n",
            "[CV 2/5] END ....C=0.8, gamma=0.001, kernel=rbf;, score=0.875 total time=   0.0s\n",
            "[CV 3/5] END ....C=0.8, gamma=0.001, kernel=rbf;, score=0.925 total time=   0.0s\n",
            "[CV 4/5] END ....C=0.8, gamma=0.001, kernel=rbf;, score=0.810 total time=   0.0s\n",
            "[CV 5/5] END ....C=0.8, gamma=0.001, kernel=rbf;, score=0.924 total time=   0.0s\n",
            "[CV 1/5] END ...C=0.8, gamma=0.0001, kernel=rbf;, score=0.600 total time=   0.0s\n",
            "[CV 2/5] END ...C=0.8, gamma=0.0001, kernel=rbf;, score=0.600 total time=   0.0s\n",
            "[CV 3/5] END ...C=0.8, gamma=0.0001, kernel=rbf;, score=0.600 total time=   0.0s\n",
            "[CV 4/5] END ...C=0.8, gamma=0.0001, kernel=rbf;, score=0.608 total time=   0.0s\n",
            "[CV 5/5] END ...C=0.8, gamma=0.0001, kernel=rbf;, score=0.608 total time=   0.0s\n",
            "[CV 1/5] END ........C=0.9, gamma=1, kernel=rbf;, score=0.900 total time=   0.0s\n",
            "[CV 2/5] END ........C=0.9, gamma=1, kernel=rbf;, score=0.950 total time=   0.0s\n",
            "[CV 3/5] END ........C=0.9, gamma=1, kernel=rbf;, score=0.950 total time=   0.0s\n",
            "[CV 4/5] END ........C=0.9, gamma=1, kernel=rbf;, score=0.911 total time=   0.0s\n",
            "[CV 5/5] END ........C=0.9, gamma=1, kernel=rbf;, score=0.924 total time=   0.0s\n",
            "[CV 1/5] END ......C=0.9, gamma=0.1, kernel=rbf;, score=0.988 total time=   0.0s\n",
            "[CV 2/5] END ......C=0.9, gamma=0.1, kernel=rbf;, score=0.950 total time=   0.0s\n",
            "[CV 3/5] END ......C=0.9, gamma=0.1, kernel=rbf;, score=0.950 total time=   0.0s\n",
            "[CV 4/5] END ......C=0.9, gamma=0.1, kernel=rbf;, score=0.924 total time=   0.0s\n",
            "[CV 5/5] END ......C=0.9, gamma=0.1, kernel=rbf;, score=0.937 total time=   0.0s\n",
            "[CV 1/5] END .....C=0.9, gamma=0.01, kernel=rbf;, score=0.938 total time=   0.0s\n",
            "[CV 2/5] END .....C=0.9, gamma=0.01, kernel=rbf;, score=0.912 total time=   0.0s\n",
            "[CV 3/5] END .....C=0.9, gamma=0.01, kernel=rbf;, score=0.963 total time=   0.0s\n",
            "[CV 4/5] END .....C=0.9, gamma=0.01, kernel=rbf;, score=0.911 total time=   0.0s\n",
            "[CV 5/5] END .....C=0.9, gamma=0.01, kernel=rbf;, score=0.911 total time=   0.0s\n",
            "[CV 1/5] END ....C=0.9, gamma=0.001, kernel=rbf;, score=0.912 total time=   0.0s\n",
            "[CV 2/5] END ....C=0.9, gamma=0.001, kernel=rbf;, score=0.875 total time=   0.0s\n",
            "[CV 3/5] END ....C=0.9, gamma=0.001, kernel=rbf;, score=0.925 total time=   0.0s\n",
            "[CV 4/5] END ....C=0.9, gamma=0.001, kernel=rbf;, score=0.823 total time=   0.0s\n",
            "[CV 5/5] END ....C=0.9, gamma=0.001, kernel=rbf;, score=0.924 total time=   0.0s\n",
            "[CV 1/5] END ...C=0.9, gamma=0.0001, kernel=rbf;, score=0.600 total time=   0.0s\n",
            "[CV 2/5] END ...C=0.9, gamma=0.0001, kernel=rbf;, score=0.600 total time=   0.0s\n",
            "[CV 3/5] END ...C=0.9, gamma=0.0001, kernel=rbf;, score=0.600 total time=   0.0s\n",
            "[CV 4/5] END ...C=0.9, gamma=0.0001, kernel=rbf;, score=0.608 total time=   0.0s\n",
            "[CV 5/5] END ...C=0.9, gamma=0.0001, kernel=rbf;, score=0.608 total time=   0.0s\n",
            "[CV 1/5] END ........C=1.0, gamma=1, kernel=rbf;, score=0.900 total time=   0.0s\n",
            "[CV 2/5] END ........C=1.0, gamma=1, kernel=rbf;, score=0.950 total time=   0.0s\n",
            "[CV 3/5] END ........C=1.0, gamma=1, kernel=rbf;, score=0.950 total time=   0.0s\n",
            "[CV 4/5] END ........C=1.0, gamma=1, kernel=rbf;, score=0.911 total time=   0.0s\n",
            "[CV 5/5] END ........C=1.0, gamma=1, kernel=rbf;, score=0.937 total time=   0.0s\n",
            "[CV 1/5] END ......C=1.0, gamma=0.1, kernel=rbf;, score=0.988 total time=   0.0s\n",
            "[CV 2/5] END ......C=1.0, gamma=0.1, kernel=rbf;, score=0.950 total time=   0.0s\n",
            "[CV 3/5] END ......C=1.0, gamma=0.1, kernel=rbf;, score=0.938 total time=   0.0s\n",
            "[CV 4/5] END ......C=1.0, gamma=0.1, kernel=rbf;, score=0.924 total time=   0.0s\n",
            "[CV 5/5] END ......C=1.0, gamma=0.1, kernel=rbf;, score=0.937 total time=   0.0s\n",
            "[CV 1/5] END .....C=1.0, gamma=0.01, kernel=rbf;, score=0.950 total time=   0.0s\n",
            "[CV 2/5] END .....C=1.0, gamma=0.01, kernel=rbf;, score=0.925 total time=   0.0s\n",
            "[CV 3/5] END .....C=1.0, gamma=0.01, kernel=rbf;, score=0.963 total time=   0.0s\n",
            "[CV 4/5] END .....C=1.0, gamma=0.01, kernel=rbf;, score=0.911 total time=   0.0s\n",
            "[CV 5/5] END .....C=1.0, gamma=0.01, kernel=rbf;, score=0.924 total time=   0.0s\n",
            "[CV 1/5] END ....C=1.0, gamma=0.001, kernel=rbf;, score=0.950 total time=   0.0s\n",
            "[CV 2/5] END ....C=1.0, gamma=0.001, kernel=rbf;, score=0.887 total time=   0.0s\n",
            "[CV 3/5] END ....C=1.0, gamma=0.001, kernel=rbf;, score=0.938 total time=   0.0s\n",
            "[CV 4/5] END ....C=1.0, gamma=0.001, kernel=rbf;, score=0.835 total time=   0.0s\n",
            "[CV 5/5] END ....C=1.0, gamma=0.001, kernel=rbf;, score=0.924 total time=   0.0s\n",
            "[CV 1/5] END ...C=1.0, gamma=0.0001, kernel=rbf;, score=0.600 total time=   0.0s\n",
            "[CV 2/5] END ...C=1.0, gamma=0.0001, kernel=rbf;, score=0.600 total time=   0.0s\n",
            "[CV 3/5] END ...C=1.0, gamma=0.0001, kernel=rbf;, score=0.600 total time=   0.0s\n",
            "[CV 4/5] END ...C=1.0, gamma=0.0001, kernel=rbf;, score=0.608 total time=   0.0s\n",
            "[CV 5/5] END ...C=1.0, gamma=0.0001, kernel=rbf;, score=0.608 total time=   0.0s\n"
          ]
        },
        {
          "output_type": "execute_result",
          "data": {
            "text/plain": [
              "GridSearchCV(estimator=SVC(),\n",
              "             param_grid={'C': [0.1, 0.2, 0.3, 0.4, 0.5, 0.6, 0.7, 0.8, 0.9,\n",
              "                               1.0],\n",
              "                         'gamma': [1, 0.1, 0.01, 0.001, 0.0001],\n",
              "                         'kernel': ['rbf']},\n",
              "             verbose=3)"
            ]
          },
          "metadata": {},
          "execution_count": 30
        }
      ]
    },
    {
      "cell_type": "code",
      "source": [
        "print(grid.best_params_)\n",
        "print(grid.best_estimator_)"
      ],
      "metadata": {
        "colab": {
          "base_uri": "https://localhost:8080/"
        },
        "id": "qV2SrgrKM-4i",
        "outputId": "42bb8bd5-7fa1-4132-aaca-831330eb3108"
      },
      "execution_count": 31,
      "outputs": [
        {
          "output_type": "stream",
          "name": "stdout",
          "text": [
            "{'C': 0.9, 'gamma': 0.1, 'kernel': 'rbf'}\n",
            "SVC(C=0.9, gamma=0.1)\n"
          ]
        }
      ]
    },
    {
      "cell_type": "code",
      "source": [
        "grid_predictions = grid.predict(x_test)\n",
        "print(classification_report(y_test, grid_predictions))"
      ],
      "metadata": {
        "colab": {
          "base_uri": "https://localhost:8080/"
        },
        "id": "pSv8dI3ENHKS",
        "outputId": "6174307c-8cfa-4bcc-a2f2-194cb07d7f78"
      },
      "execution_count": 32,
      "outputs": [
        {
          "output_type": "stream",
          "name": "stdout",
          "text": [
            "              precision    recall  f1-score   support\n",
            "\n",
            "           0       0.97      0.95      0.96       117\n",
            "           1       0.89      0.94      0.92        54\n",
            "\n",
            "    accuracy                           0.95       171\n",
            "   macro avg       0.93      0.95      0.94       171\n",
            "weighted avg       0.95      0.95      0.95       171\n",
            "\n"
          ]
        }
      ]
    },
    {
      "cell_type": "code",
      "source": [
        "cm = confusion_matrix(y_test, grid_predictions)\n",
        "\n",
        "group_names = [\"True Pos\",\"False Pos\",\"False Neg\",\"True Neg\"]\n",
        "group_counts = [\"{0:0.0f}\".format(value) for value in cm.flatten()]\n",
        "group_percentages = [\"{0:.2%}\".format(value) for value in cm.flatten()/np.sum(cm)]\n",
        "labels = [f\"{v1}\\n{v2}\\n{v3}\" for v1, v2, v3 in zip(group_names, group_counts, group_percentages)]\n",
        "labels = np.asarray(labels).reshape(2,2)\n",
        "\n",
        "sns.heatmap(cm, annot=labels, fmt=\"\", cmap='Blues')"
      ],
      "metadata": {
        "colab": {
          "base_uri": "https://localhost:8080/",
          "height": 282
        },
        "id": "_XyEoT9eNMKu",
        "outputId": "74a783ba-70ed-4c58-e31d-cf89e0f90923"
      },
      "execution_count": 33,
      "outputs": [
        {
          "output_type": "execute_result",
          "data": {
            "text/plain": [
              "<matplotlib.axes._subplots.AxesSubplot at 0x7f830244ec70>"
            ]
          },
          "metadata": {},
          "execution_count": 33
        },
        {
          "output_type": "display_data",
          "data": {
            "text/plain": [
              "<Figure size 432x288 with 2 Axes>"
            ],
            "image/png": "[encoded data removed]"
          },
          "metadata": {
            "needs_background": "light"
          }
        }
      ]
    },
    {
      "cell_type": "code",
      "source": [
        "df.iloc[3]. values. tolist()"
      ],
      "metadata": {
        "colab": {
          "base_uri": "https://localhost:8080/"
        },
        "id": "648hwIMSNPPa",
        "outputId": "7c37fd6a-4125-4fa6-8fa4-d9efe940057b"
      },
      "execution_count": 35,
      "outputs": [
        {
          "output_type": "execute_result",
          "data": {
            "text/plain": [
              "['M',\n",
              " 11.42,\n",
              " 20.38,\n",
              " 77.58,\n",
              " 386.1,\n",
              " 0.1425,\n",
              " 0.2839,\n",
              " 0.2414,\n",
              " 0.1052,\n",
              " 0.2597,\n",
              " 0.09744]"
            ]
          },
          "metadata": {},
          "execution_count": 35
        }
      ]
    },
    {
      "cell_type": "code",
      "source": [
        "input_data = (11.42,\n",
        " 20.38,\n",
        " 77.58,\n",
        " 386.1,\n",
        " 0.1425,\n",
        " 0.2839,\n",
        " 0.2414,\n",
        " 0.1052,\n",
        " 0.2597,\n",
        " 0.09744)\n",
        "input_data_as_numpy_array = np.asarray(input_data)\n",
        "input_data_reshaped = input_data_as_numpy_array.reshape(1,-1)\n",
        "\n",
        "prediction = SVM.predict(input_data_reshaped)\n",
        "print(prediction)\n",
        "\n",
        "if (prediction[0] == 0):\n",
        "  print('The person is cancer-free')\n",
        "else:\n",
        "  print('The person has cancer')"
      ],
      "metadata": {
        "colab": {
          "base_uri": "https://localhost:8080/"
        },
        "id": "aLrP7LD5NS_F",
        "outputId": "04d1567f-7032-4e4a-8cf6-52123d5a2bfb"
      },
      "execution_count": 36,
      "outputs": [
        {
          "output_type": "stream",
          "name": "stdout",
          "text": [
            "[1]\n",
            "The person has cancer\n"
          ]
        }
      ]
    },
    {
      "cell_type": "code",
      "source": [
        "import pickle"
      ],
      "metadata": {
        "id": "orQE209pNboI"
      },
      "execution_count": 37,
      "outputs": []
    },
    {
      "cell_type": "code",
      "source": [
        "filename = 'breast_cancer_trained_model.sav'\n",
        "pickle.dump(SVM, open(filename, 'wb'))\n",
        "loaded_model = pickle.load(open('breast_cancer_trained_model.sav', 'rb'))"
      ],
      "metadata": {
        "id": "TCW56jVKNeYR"
      },
      "execution_count": 39,
      "outputs": []
    },
    {
      "cell_type": "code",
      "source": [
        "input_data = (11.42,\n",
        " 20.38,\n",
        " 77.58,\n",
        " 386.1,\n",
        " 0.1425,\n",
        " 0.2839,\n",
        " 0.2414,\n",
        " 0.1052,\n",
        " 0.2597,\n",
        " 0.09744)\n",
        "input_data_as_numpy_array = np.asarray(input_data)\n",
        "input_data_reshaped = input_data_as_numpy_array.reshape(1,-1)\n",
        "\n",
        "prediction = SVM.predict(input_data_reshaped)\n",
        "print(prediction)\n",
        "\n",
        "if (prediction[0] == 0):\n",
        "  print('The person is cancer-free')\n",
        "else:\n",
        "  print('The person has cancer')"
      ],
      "metadata": {
        "colab": {
          "base_uri": "https://localhost:8080/"
        },
        "id": "aMVUO_0-NlBh",
        "outputId": "e5782fec-89c1-47c7-915f-4311ccbc8d1e"
      },
      "execution_count": 40,
      "outputs": [
        {
          "output_type": "stream",
          "name": "stdout",
          "text": [
            "[1]\n",
            "The person has cancer\n"
          ]
        }
      ]
    },
    {
      "cell_type": "code",
      "source": [
        "df.columns"
      ],
      "metadata": {
        "colab": {
          "base_uri": "https://localhost:8080/"
        },
        "id": "sXPRbnSENzmD",
        "outputId": "6dc84d09-49ac-4124-adbd-36c04354dfbf"
      },
      "execution_count": 43,
      "outputs": [
        {
          "output_type": "execute_result",
          "data": {
            "text/plain": [
              "Index(['diagnosis', 'radius_mean', 'texture_mean', 'perimeter_mean',\n",
              "       'area_mean', 'smoothness_mean', 'compactness_mean', 'concavity_mean',\n",
              "       'concave points_mean', 'symmetry_mean', 'fractal_dimension_mean'],\n",
              "      dtype='object')"
            ]
          },
          "metadata": {},
          "execution_count": 43
        }
      ]
    },
    {
      "cell_type": "code",
      "source": [
        "!pip install streamlit"
      ],
      "metadata": {
        "colab": {
          "base_uri": "https://localhost:8080/"
        },
        "id": "wkqL7yHPN2sx",
        "outputId": "8117954c-47df-4262-d89d-586fb1933f26"
      },
      "execution_count": 44,
      "outputs": [
        {
          "output_type": "stream",
          "name": "stdout",
          "text": [
            "Looking in indexes: https://pypi.org/simple, https://us-python.pkg.dev/colab-wheels/public/simple/\n",
            "Collecting streamlit\n",
            "  Downloading streamlit-1.16.0-py2.py3-none-any.whl (9.2 MB)\n",
            "\u001b[K     |████████████████████████████████| 9.2 MB 6.8 MB/s \n",
            "\u001b[?25hCollecting rich>=10.11.0\n",
            "  Downloading rich-12.6.0-py3-none-any.whl (237 kB)\n",
            "\u001b[K     |████████████████████████████████| 237 kB 73.6 MB/s \n",
            "\u001b[?25hCollecting gitpython!=3.1.19\n",
            "  Downloading GitPython-3.1.29-py3-none-any.whl (182 kB)\n",
            "\u001b[K     |████████████████████████████████| 182 kB 67.9 MB/s \n",
            "\u001b[?25hCollecting pympler>=0.9\n",
            "  Downloading Pympler-1.0.1-py3-none-any.whl (164 kB)\n",
            "\u001b[K     |████████████████████████████████| 164 kB 68.0 MB/s \n",
            "\u001b[?25hCollecting watchdog\n",
            "  Downloading watchdog-2.2.0-py3-none-manylinux2014_x86_64.whl (78 kB)\n",
            "\u001b[K     |████████████████████████████████| 78 kB 9.5 MB/s \n",
            "\u001b[?25hRequirement already satisfied: tzlocal>=1.1 in /usr/local/lib/python3.8/dist-packages (from streamlit) (1.5.1)\n",
            "Collecting blinker>=1.0.0\n",
            "  Downloading blinker-1.5-py2.py3-none-any.whl (12 kB)\n",
            "Collecting validators>=0.2\n",
            "  Downloading validators-0.20.0.tar.gz (30 kB)\n",
            "Requirement already satisfied: click>=7.0 in /usr/local/lib/python3.8/dist-packages (from streamlit) (7.1.2)\n",
            "Requirement already satisfied: pillow>=6.2.0 in /usr/local/lib/python3.8/dist-packages (from streamlit) (7.1.2)\n",
            "Requirement already satisfied: numpy in /usr/local/lib/python3.8/dist-packages (from streamlit) (1.21.6)\n",
            "Requirement already satisfied: protobuf<4,>=3.12 in /usr/local/lib/python3.8/dist-packages (from streamlit) (3.19.6)\n",
            "Collecting semver\n",
            "  Downloading semver-2.13.0-py2.py3-none-any.whl (12 kB)\n",
            "Requirement already satisfied: python-dateutil in /usr/local/lib/python3.8/dist-packages (from streamlit) (2.8.2)\n",
            "Requirement already satisfied: pandas>=0.21.0 in /usr/local/lib/python3.8/dist-packages (from streamlit) (1.3.5)\n",
            "Requirement already satisfied: importlib-metadata>=1.4 in /usr/local/lib/python3.8/dist-packages (from streamlit) (5.1.0)\n",
            "Requirement already satisfied: packaging>=14.1 in /usr/local/lib/python3.8/dist-packages (from streamlit) (21.3)\n",
            "Requirement already satisfied: altair>=3.2.0 in /usr/local/lib/python3.8/dist-packages (from streamlit) (4.2.0)\n",
            "Requirement already satisfied: toml in /usr/local/lib/python3.8/dist-packages (from streamlit) (0.10.2)\n",
            "Requirement already satisfied: cachetools>=4.0 in /usr/local/lib/python3.8/dist-packages (from streamlit) (5.2.0)\n",
            "Requirement already satisfied: pyarrow>=4.0 in /usr/local/lib/python3.8/dist-packages (from streamlit) (9.0.0)\n",
            "Requirement already satisfied: requests>=2.4 in /usr/local/lib/python3.8/dist-packages (from streamlit) (2.23.0)\n",
            "Collecting pydeck>=0.1.dev5\n",
            "  Downloading pydeck-0.8.0-py2.py3-none-any.whl (4.7 MB)\n",
            "\u001b[K     |████████████████████████████████| 4.7 MB 46.5 MB/s \n",
            "\u001b[?25hRequirement already satisfied: tornado>=5.0 in /usr/local/lib/python3.8/dist-packages (from streamlit) (6.0.4)\n",
            "Requirement already satisfied: typing-extensions>=3.10.0.0 in /usr/local/lib/python3.8/dist-packages (from streamlit) (4.4.0)\n",
            "Requirement already satisfied: entrypoints in /usr/local/lib/python3.8/dist-packages (from altair>=3.2.0->streamlit) (0.4)\n",
            "Requirement already satisfied: jinja2 in /usr/local/lib/python3.8/dist-packages (from altair>=3.2.0->streamlit) (2.11.3)\n",
            "Requirement already satisfied: toolz in /usr/local/lib/python3.8/dist-packages (from altair>=3.2.0->streamlit) (0.12.0)\n",
            "Requirement already satisfied: jsonschema>=3.0 in /usr/local/lib/python3.8/dist-packages (from altair>=3.2.0->streamlit) (4.3.3)\n",
            "Collecting gitdb<5,>=4.0.1\n",
            "  Downloading gitdb-4.0.10-py3-none-any.whl (62 kB)\n",
            "\u001b[K     |████████████████████████████████| 62 kB 1.7 MB/s \n",
            "\u001b[?25hCollecting smmap<6,>=3.0.1\n",
            "  Downloading smmap-5.0.0-py3-none-any.whl (24 kB)\n",
            "Requirement already satisfied: zipp>=0.5 in /usr/local/lib/python3.8/dist-packages (from importlib-metadata>=1.4->streamlit) (3.11.0)\n",
            "Requirement already satisfied: importlib-resources>=1.4.0 in /usr/local/lib/python3.8/dist-packages (from jsonschema>=3.0->altair>=3.2.0->streamlit) (5.10.1)\n",
            "Requirement already satisfied: attrs>=17.4.0 in /usr/local/lib/python3.8/dist-packages (from jsonschema>=3.0->altair>=3.2.0->streamlit) (22.1.0)\n",
            "Requirement already satisfied: pyrsistent!=0.17.0,!=0.17.1,!=0.17.2,>=0.14.0 in /usr/local/lib/python3.8/dist-packages (from jsonschema>=3.0->altair>=3.2.0->streamlit) (0.19.2)\n",
            "Requirement already satisfied: pyparsing!=3.0.5,>=2.0.2 in /usr/local/lib/python3.8/dist-packages (from packaging>=14.1->streamlit) (3.0.9)\n",
            "Requirement already satisfied: pytz>=2017.3 in /usr/local/lib/python3.8/dist-packages (from pandas>=0.21.0->streamlit) (2022.6)\n",
            "Requirement already satisfied: MarkupSafe>=0.23 in /usr/local/lib/python3.8/dist-packages (from jinja2->altair>=3.2.0->streamlit) (2.0.1)\n",
            "Requirement already satisfied: six>=1.5 in /usr/local/lib/python3.8/dist-packages (from python-dateutil->streamlit) (1.15.0)\n",
            "Requirement already satisfied: idna<3,>=2.5 in /usr/local/lib/python3.8/dist-packages (from requests>=2.4->streamlit) (2.10)\n",
            "Requirement already satisfied: urllib3!=1.25.0,!=1.25.1,<1.26,>=1.21.1 in /usr/local/lib/python3.8/dist-packages (from requests>=2.4->streamlit) (1.24.3)\n",
            "Requirement already satisfied: chardet<4,>=3.0.2 in /usr/local/lib/python3.8/dist-packages (from requests>=2.4->streamlit) (3.0.4)\n",
            "Requirement already satisfied: certifi>=2017.4.17 in /usr/local/lib/python3.8/dist-packages (from requests>=2.4->streamlit) (2022.12.7)\n",
            "Requirement already satisfied: pygments<3.0.0,>=2.6.0 in /usr/local/lib/python3.8/dist-packages (from rich>=10.11.0->streamlit) (2.6.1)\n",
            "Collecting commonmark<0.10.0,>=0.9.0\n",
            "  Downloading commonmark-0.9.1-py2.py3-none-any.whl (51 kB)\n",
            "\u001b[K     |████████████████████████████████| 51 kB 9.1 MB/s \n",
            "\u001b[?25hRequirement already satisfied: decorator>=3.4.0 in /usr/local/lib/python3.8/dist-packages (from validators>=0.2->streamlit) (4.4.2)\n",
            "Building wheels for collected packages: validators\n",
            "  Building wheel for validators (setup.py) ... \u001b[?25l\u001b[?25hdone\n",
            "  Created wheel for validators: filename=validators-0.20.0-py3-none-any.whl size=19581 sha256=db21ebf9465a5c33b9e4cbf5bac018f809b33314b2823767ca7f98490c2eb472\n",
            "  Stored in directory: /root/.cache/pip/wheels/19/09/72/3eb74d236bb48bd0f3c6c3c83e4e0c5bbfcbcad7c6c3539db8\n",
            "Successfully built validators\n",
            "Installing collected packages: smmap, gitdb, commonmark, watchdog, validators, semver, rich, pympler, pydeck, gitpython, blinker, streamlit\n",
            "Successfully installed blinker-1.5 commonmark-0.9.1 gitdb-4.0.10 gitpython-3.1.29 pydeck-0.8.0 pympler-1.0.1 rich-12.6.0 semver-2.13.0 smmap-5.0.0 streamlit-1.16.0 validators-0.20.0 watchdog-2.2.0\n"
          ]
        }
      ]
    },
    {
      "cell_type": "code",
      "source": [
        "import numpy as np\n",
        "import pickle\n",
        "import streamlit as st"
      ],
      "metadata": {
        "id": "H-ntvM9bPVME"
      },
      "execution_count": null,
      "outputs": []
    },
    {
      "cell_type": "code",
      "source": [
        "\n",
        "loaded_model = pickle.load(open('breast_cancer_trained_model.sav', 'rb'))\n",
        "\n",
        "def cancer_prediction(input_data):\n",
        "        \n",
        "    input_data_as_numpy_array = np.asarray(input_data)\n",
        "\n",
        "    input_data_reshaped = input_data_as_numpy_array.reshape(1,-1)\n",
        "    \n",
        "    prediction = loaded_model.predict(input_data_reshaped)\n",
        "    print(prediction)\n",
        "\n",
        "    if (prediction[0] == 0):\n",
        "      return 'The person is cancer-free'\n",
        "    else:\n",
        "      return 'The person has cancer'\n",
        "def main(): \n",
        "    st.title('Breast cancer Prediction Web App')\n",
        "    radius_mean =st.text_input('radius')\n",
        "    texture_mean =st.text_input('texture')\n",
        "    perimeter_mean=st.text_input('perimeter')\n",
        "    area_mean=st.text_input('area')\n",
        "    smoothness_mean=st.text_input('smoothness')\n",
        "    compactness_mean=st.text_input('compactness')\n",
        "    concavity_mean=st.text_input('concavity')\n",
        "    concave_points_mean=st.text_input('concave points')\n",
        "    symmetry_mean=st.text_input('Symmetry')\n",
        "    fractal_dimension_mean=st.text_input('fractal dimension')\n",
        "    \n",
        "    diagnosis = ''\n",
        "    if st.button('Cancer Test Result'):\n",
        "        diagnosis = cancer_prediction([radius_mean, texture_mean, perimeter_mean,area_mean, smoothness_mean, compactness_mean, concavity_mean,\n",
        "       concave_points_mean, symmetry_mean, fractal_dimension_mean])\n",
        "              \n",
        "    st.success(diagnosis)\n",
        "      \n",
        "if __name__ == '__main__':\n",
        "    main()\n",
        "    "
      ],
      "metadata": {
        "id": "KSEvr7CEOgS0"
      },
      "execution_count": null,
      "outputs": []
    }
  ]
}