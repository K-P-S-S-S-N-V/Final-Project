{
  "cells": [
    {
      "cell_type": "code",
      "execution_count": null,
      "metadata": {
        "id": "Lc3BK4HTVHPS"
      },
      "outputs": [],
      "source": [
        "import numpy as np\n",
        "import pandas as pd\n",
        "import matplotlib.pyplot as plt\n",
        "import seaborn as sns\n",
        "\n",
        "from sklearn.cluster import KMeans\n",
        "from sklearn.preprocessing import StandardScaler\n",
        "\n",
        "%matplotlib inline\n",
        "sns.set_context('notebook')\n",
        "plt.style.use('fivethirtyeight')\n",
        "from warnings import filterwarnings\n",
        "filterwarnings('ignore')\n",
        "     "
      ]
    },
    {
      "cell_type": "code",
      "execution_count": null,
      "metadata": {
        "colab": {
          "base_uri": "https://localhost:8080/"
        },
        "id": "7-35MH6-VeL3",
        "outputId": "b65ec230-1645-4681-daa8-651a8c73e978"
      },
      "outputs": [
        {
          "name": "stdout",
          "output_type": "stream",
          "text": [
            "        Gender  Orders  Jordan  Gatorade  Samsung  Asus  Udis  \\\n",
            "Cust_ID                                                         \n",
            "1            M       7       0         0        0     0     0   \n",
            "2            F       0       0         1        0     0     0   \n",
            "3            M       7       0         1        0     0     0   \n",
            "4            F       0       0         0        0     0     0   \n",
            "5          NaN      10       0         0        0     0     0   \n",
            "...        ...     ...     ...       ...      ...   ...   ...   \n",
            "29996        M       0       0         0        0     0     0   \n",
            "29997        M       1       0         1        0     0     0   \n",
            "29998        M       0       0         1        0     0     0   \n",
            "29999        M       0       0         0        0     0     0   \n",
            "30000        F       3       2         0        0     1     0   \n",
            "\n",
            "         Mondelez International  Wrangler  Vans  ...  LG  Dior  Scabal  \\\n",
            "Cust_ID                                          ...                     \n",
            "1                             0         0     2  ...   0     0       0   \n",
            "2                             0         0     0  ...   0     1       0   \n",
            "3                             0         0     0  ...   0     0       0   \n",
            "4                             0         0     0  ...   0     0       0   \n",
            "5                             0         0     0  ...   0     0       2   \n",
            "...                         ...       ...   ...  ...  ..   ...     ...   \n",
            "29996                         0         0     0  ...   0     0       0   \n",
            "29997                         0         0     0  ...   0     0       0   \n",
            "29998                         0         0     1  ...   0     0       0   \n",
            "29999                         0         0     0  ...   0     0       0   \n",
            "30000                         0         0     0  ...   0     0       0   \n",
            "\n",
            "         Tommy Hilfiger  Hollister  Forever 21  Colavita  Microsoft  \\\n",
            "Cust_ID                                                               \n",
            "1                     0          0           0         0          0   \n",
            "2                     0          0           0         0          0   \n",
            "3                     0          0           0         0          1   \n",
            "4                     0          0           0         0          0   \n",
            "5                     0          0           0         0          0   \n",
            "...                 ...        ...         ...       ...        ...   \n",
            "29996                 0          0           0         0          0   \n",
            "29997                 0          0           0         0          0   \n",
            "29998                 0          0           0         0          0   \n",
            "29999                 0          0           0         0          0   \n",
            "30000                 0          0           0         0          0   \n",
            "\n",
            "         Jiffy mix  Kraft  \n",
            "Cust_ID                    \n",
            "1                0      0  \n",
            "2                0      0  \n",
            "3                0      0  \n",
            "4                0      0  \n",
            "5                1      1  \n",
            "...            ...    ...  \n",
            "29996            0      0  \n",
            "29997            0      0  \n",
            "29998            0      0  \n",
            "29999            0      0  \n",
            "30000            0      0  \n",
            "\n",
            "[30000 rows x 37 columns]\n"
          ]
        }
      ],
      "source": [
        "df=pd.read_excel(r'cust_data.xlsx',index_col=0)\n",
        "print(df)"
      ]
    },
    {
      "cell_type": "code",
      "execution_count": null,
      "metadata": {
        "colab": {
          "base_uri": "https://localhost:8080/"
        },
        "id": "uJ2tfqH4V7rO",
        "outputId": "278dbac7-452a-402e-f603-1baf5c4d7b75"
      },
      "outputs": [
        {
          "data": {
            "text/plain": [
              "Index(['Gender', 'Orders', 'Jordan', 'Gatorade', 'Samsung', 'Asus', 'Udis',\n",
              "       'Mondelez International', 'Wrangler', 'Vans', 'Fila', 'Brooks', 'H&M',\n",
              "       'Dairy Queen', 'Fendi', 'Hewlett Packard', 'Pladis', 'Asics', 'Siemens',\n",
              "       'J.M. Smucker', 'Pop Chips', 'Juniper', 'Huawei', 'Compaq', 'IBM',\n",
              "       'Burberry', 'Mi', 'LG', 'Dior', 'Scabal', 'Tommy Hilfiger', 'Hollister',\n",
              "       'Forever 21', 'Colavita', 'Microsoft', 'Jiffy mix', 'Kraft'],\n",
              "      dtype='object')"
            ]
          },
          "execution_count": 83,
          "metadata": {},
          "output_type": "execute_result"
        }
      ],
      "source": [
        "df.columns"
      ]
    },
    {
      "cell_type": "code",
      "execution_count": null,
      "metadata": {
        "colab": {
          "base_uri": "https://localhost:8080/"
        },
        "id": "Xlm2TIvVWtOE",
        "outputId": "430cedb1-8bfb-4e2c-a6de-1721e8bd0d2d"
      },
      "outputs": [
        {
          "data": {
            "text/plain": [
              "(30000, 37)"
            ]
          },
          "execution_count": 84,
          "metadata": {},
          "output_type": "execute_result"
        }
      ],
      "source": [
        "df.shape"
      ]
    },
    {
      "cell_type": "code",
      "execution_count": null,
      "metadata": {
        "colab": {
          "base_uri": "https://localhost:8080/"
        },
        "id": "uDN7pdl1W_Wu",
        "outputId": "1015aecb-7770-4376-c351-44f4d74b8601"
      },
      "outputs": [
        {
          "name": "stdout",
          "output_type": "stream",
          "text": [
            "<class 'pandas.core.frame.DataFrame'>\n",
            "Int64Index: 30000 entries, 1 to 30000\n",
            "Data columns (total 37 columns):\n",
            " #   Column                  Non-Null Count  Dtype \n",
            "---  ------                  --------------  ----- \n",
            " 0   Gender                  27276 non-null  object\n",
            " 1   Orders                  30000 non-null  int64 \n",
            " 2   Jordan                  30000 non-null  int64 \n",
            " 3   Gatorade                30000 non-null  int64 \n",
            " 4   Samsung                 30000 non-null  int64 \n",
            " 5   Asus                    30000 non-null  int64 \n",
            " 6   Udis                    30000 non-null  int64 \n",
            " 7   Mondelez International  30000 non-null  int64 \n",
            " 8   Wrangler                30000 non-null  int64 \n",
            " 9   Vans                    30000 non-null  int64 \n",
            " 10  Fila                    30000 non-null  int64 \n",
            " 11  Brooks                  30000 non-null  int64 \n",
            " 12  H&M                     30000 non-null  int64 \n",
            " 13  Dairy Queen             30000 non-null  int64 \n",
            " 14  Fendi                   30000 non-null  int64 \n",
            " 15  Hewlett Packard         30000 non-null  int64 \n",
            " 16  Pladis                  30000 non-null  int64 \n",
            " 17  Asics                   30000 non-null  int64 \n",
            " 18  Siemens                 30000 non-null  int64 \n",
            " 19  J.M. Smucker            30000 non-null  int64 \n",
            " 20  Pop Chips               30000 non-null  int64 \n",
            " 21  Juniper                 30000 non-null  int64 \n",
            " 22  Huawei                  30000 non-null  int64 \n",
            " 23  Compaq                  30000 non-null  int64 \n",
            " 24  IBM                     30000 non-null  int64 \n",
            " 25  Burberry                30000 non-null  int64 \n",
            " 26  Mi                      30000 non-null  int64 \n",
            " 27  LG                      30000 non-null  int64 \n",
            " 28  Dior                    30000 non-null  int64 \n",
            " 29  Scabal                  30000 non-null  int64 \n",
            " 30  Tommy Hilfiger          30000 non-null  int64 \n",
            " 31  Hollister               30000 non-null  int64 \n",
            " 32  Forever 21              30000 non-null  int64 \n",
            " 33  Colavita                30000 non-null  int64 \n",
            " 34  Microsoft               30000 non-null  int64 \n",
            " 35  Jiffy mix               30000 non-null  int64 \n",
            " 36  Kraft                   30000 non-null  int64 \n",
            "dtypes: int64(36), object(1)\n",
            "memory usage: 9.7+ MB\n"
          ]
        }
      ],
      "source": [
        "df.info()"
      ]
    },
    {
      "cell_type": "code",
      "execution_count": null,
      "metadata": {
        "colab": {
          "base_uri": "https://localhost:8080/"
        },
        "id": "TYQgwgvlXDWR",
        "outputId": "8a2e11d9-2c9e-48b5-8043-0651accf0c42"
      },
      "outputs": [
        {
          "data": {
            "text/plain": [
              "Gender                    2724\n",
              "Orders                       0\n",
              "Jordan                       0\n",
              "Gatorade                     0\n",
              "Samsung                      0\n",
              "Asus                         0\n",
              "Udis                         0\n",
              "Mondelez International       0\n",
              "Wrangler                     0\n",
              "Vans                         0\n",
              "Fila                         0\n",
              "Brooks                       0\n",
              "H&M                          0\n",
              "Dairy Queen                  0\n",
              "Fendi                        0\n",
              "Hewlett Packard              0\n",
              "Pladis                       0\n",
              "Asics                        0\n",
              "Siemens                      0\n",
              "J.M. Smucker                 0\n",
              "Pop Chips                    0\n",
              "Juniper                      0\n",
              "Huawei                       0\n",
              "Compaq                       0\n",
              "IBM                          0\n",
              "Burberry                     0\n",
              "Mi                           0\n",
              "LG                           0\n",
              "Dior                         0\n",
              "Scabal                       0\n",
              "Tommy Hilfiger               0\n",
              "Hollister                    0\n",
              "Forever 21                   0\n",
              "Colavita                     0\n",
              "Microsoft                    0\n",
              "Jiffy mix                    0\n",
              "Kraft                        0\n",
              "dtype: int64"
            ]
          },
          "execution_count": 87,
          "metadata": {},
          "output_type": "execute_result"
        }
      ],
      "source": [
        "df.isnull().sum()"
      ]
    },
    {
      "cell_type": "code",
      "execution_count": null,
      "metadata": {
        "colab": {
          "base_uri": "https://localhost:8080/",
          "height": 317
        },
        "id": "dfAFkToXW3Dr",
        "outputId": "3ebb6931-0cd6-4734-e7a3-43db1ffa90ee"
      },
      "outputs": [
        {
          "data": {
            "text/plain": [
              "<matplotlib.axes._subplots.AxesSubplot at 0x7f83006f2a30>"
            ]
          },
          "execution_count": 85,
          "metadata": {},
          "output_type": "execute_result"
        },
        {
          "data": {
            "image/png": "[encoded data removed]",
            "text/plain": [
              "<Figure size 432x288 with 1 Axes>"
            ]
          },
          "metadata": {},
          "output_type": "display_data"
        }
      ],
      "source": [
        "sns.countplot(data=df,x='Orders')"
      ]
    },
    {
      "cell_type": "code",
      "execution_count": null,
      "metadata": {
        "colab": {
          "base_uri": "https://localhost:8080/",
          "height": 300
        },
        "id": "avOyTt6KXSkM",
        "outputId": "91ef214e-cfa4-43d9-8107-e0d998f71cf8"
      },
      "outputs": [
        {
          "data": {
            "image/png": "[encoded data removed]",
            "text/plain": [
              "<Figure size 432x288 with 1 Axes>"
            ]
          },
          "metadata": {},
          "output_type": "display_data"
        }
      ],
      "source": [
        "sns.countplot(data=df,x='Gender')\n",
        "\n",
        "plt.text(x = -0.1, y = df.Gender.value_counts()[1] + 40, s = str(round((df.Gender.value_counts()[1])*100/len(df.Gender),2)) + '%')\n",
        "plt.text(x = 0.9, y = df.Gender.value_counts()[0] + 40, s = str(round((df.Gender.value_counts()[0])*100/len(df.Gender),2)) + '%')\n",
        "plt.show()"
      ]
    },
    {
      "cell_type": "code",
      "execution_count": null,
      "metadata": {
        "colab": {
          "background_save": true
        },
        "id": "hGSp16D3XWAD",
        "outputId": "4ec35d5f-d450-4dcf-a8b7-fac96281771c"
      },
      "outputs": [
        {
          "data": {
            "text/plain": [
              "Text(0.5, 1.0, 'Heatmap of missing values')"
            ]
          },
          "execution_count": 93,
          "metadata": {},
          "output_type": "execute_result"
        },
        {
          "data": {
            "image/png": "[encoded data removed]",
            "text/plain": [
              "<Figure size 432x288 with 2 Axes>"
            ]
          },
          "metadata": {},
          "output_type": "display_data"
        }
      ],
      "source": []
    },
    {
      "cell_type": "code",
      "execution_count": null,
      "metadata": {
        "colab": {
          "background_save": true
        },
        "id": "cSKEhlfFXV8d",
        "outputId": "bbb32fb9-d827-40f7-b980-3d94acbe64e4"
      },
      "outputs": [
        {
          "name": "stdout",
          "output_type": "stream",
          "text": [
            "         Orders  Jordan  Gatorade  Samsung  Asus  Udis  \\\n",
            "Cust_ID                                                  \n",
            "1             7       0         0        0     0     0   \n",
            "2             0       0         1        0     0     0   \n",
            "3             7       0         1        0     0     0   \n",
            "4             0       0         0        0     0     0   \n",
            "5            10       0         0        0     0     0   \n",
            "...         ...     ...       ...      ...   ...   ...   \n",
            "29996         0       0         0        0     0     0   \n",
            "29997         1       0         1        0     0     0   \n",
            "29998         0       0         1        0     0     0   \n",
            "29999         0       0         0        0     0     0   \n",
            "30000         3       2         0        0     1     0   \n",
            "\n",
            "         Mondelez International  Wrangler  Vans  Fila  ...  Scabal  \\\n",
            "Cust_ID                                                ...           \n",
            "1                             0         0     2     0  ...       0   \n",
            "2                             0         0     0     0  ...       0   \n",
            "3                             0         0     0     0  ...       0   \n",
            "4                             0         0     0     0  ...       0   \n",
            "5                             0         0     0     0  ...       2   \n",
            "...                         ...       ...   ...   ...  ...     ...   \n",
            "29996                         0         0     0     0  ...       0   \n",
            "29997                         0         0     0     0  ...       0   \n",
            "29998                         0         0     1     0  ...       0   \n",
            "29999                         0         0     0     0  ...       0   \n",
            "30000                         0         0     0     0  ...       0   \n",
            "\n",
            "         Tommy Hilfiger  Hollister  Forever 21  Colavita  Microsoft  \\\n",
            "Cust_ID                                                               \n",
            "1                     0          0           0         0          0   \n",
            "2                     0          0           0         0          0   \n",
            "3                     0          0           0         0          1   \n",
            "4                     0          0           0         0          0   \n",
            "5                     0          0           0         0          0   \n",
            "...                 ...        ...         ...       ...        ...   \n",
            "29996                 0          0           0         0          0   \n",
            "29997                 0          0           0         0          0   \n",
            "29998                 0          0           0         0          0   \n",
            "29999                 0          0           0         0          0   \n",
            "30000                 0          0           0         0          0   \n",
            "\n",
            "         Jiffy mix  Kraft  Gender_F  Gender_M  \n",
            "Cust_ID                                        \n",
            "1                0      0         0         1  \n",
            "2                0      0         1         0  \n",
            "3                0      0         0         1  \n",
            "4                0      0         1         0  \n",
            "5                1      1         0         0  \n",
            "...            ...    ...       ...       ...  \n",
            "29996            0      0         0         1  \n",
            "29997            0      0         0         1  \n",
            "29998            0      0         0         1  \n",
            "29999            0      0         0         1  \n",
            "30000            0      0         1         0  \n",
            "\n",
            "[30000 rows x 38 columns]\n"
          ]
        }
      ],
      "source": []
    },
    {
      "cell_type": "code",
      "execution_count": null,
      "metadata": {
        "id": "9FFRxr24XV6B"
      },
      "outputs": [],
      "source": []
    },
    {
      "cell_type": "code",
      "source": [],
      "metadata": {
        "id": "Gb1KgRCfksuj"
      },
      "execution_count": null,
      "outputs": []
    }
  ],
  "metadata": {
    "colab": {
      "provenance": []
    },
    "kernelspec": {
      "display_name": "Python 3",
      "name": "python3"
    },
    "language_info": {
      "name": "python"
    }
  },
  "nbformat": 4,
  "nbformat_minor": 0
}